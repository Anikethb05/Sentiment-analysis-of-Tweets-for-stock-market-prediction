{
 "cells": [
  {
   "cell_type": "code",
   "execution_count": 1,
   "id": "60f50f98",
   "metadata": {},
   "outputs": [],
   "source": [
    "import pandas as pd\n",
    "import numpy as np\n",
    "import matplotlib.pyplot as plt\n",
    "import seaborn as sns\n",
    "plt.style.use('ggplot')"
   ]
  },
  {
   "cell_type": "code",
   "execution_count": 2,
   "id": "aa3118b4",
   "metadata": {},
   "outputs": [],
   "source": [
    "df = pd.read_csv('stock_tweets.csv')"
   ]
  },
  {
   "cell_type": "code",
   "execution_count": 3,
   "id": "c296f1fd",
   "metadata": {},
   "outputs": [
    {
     "data": {
      "text/html": [
       "<div>\n",
       "<style scoped>\n",
       "    .dataframe tbody tr th:only-of-type {\n",
       "        vertical-align: middle;\n",
       "    }\n",
       "\n",
       "    .dataframe tbody tr th {\n",
       "        vertical-align: top;\n",
       "    }\n",
       "\n",
       "    .dataframe thead th {\n",
       "        text-align: right;\n",
       "    }\n",
       "</style>\n",
       "<table border=\"1\" class=\"dataframe\">\n",
       "  <thead>\n",
       "    <tr style=\"text-align: right;\">\n",
       "      <th></th>\n",
       "      <th>Date</th>\n",
       "      <th>Tweet</th>\n",
       "      <th>Stock Name</th>\n",
       "      <th>Company Name</th>\n",
       "    </tr>\n",
       "  </thead>\n",
       "  <tbody>\n",
       "    <tr>\n",
       "      <th>0</th>\n",
       "      <td>2022-09-29 23:41:16+00:00</td>\n",
       "      <td>Mainstream media has done an amazing job at br...</td>\n",
       "      <td>TSLA</td>\n",
       "      <td>Tesla, Inc.</td>\n",
       "    </tr>\n",
       "    <tr>\n",
       "      <th>1</th>\n",
       "      <td>2022-09-29 23:24:43+00:00</td>\n",
       "      <td>Tesla delivery estimates are at around 364k fr...</td>\n",
       "      <td>TSLA</td>\n",
       "      <td>Tesla, Inc.</td>\n",
       "    </tr>\n",
       "    <tr>\n",
       "      <th>2</th>\n",
       "      <td>2022-09-29 23:18:08+00:00</td>\n",
       "      <td>3/ Even if I include 63.0M unvested RSUs as of...</td>\n",
       "      <td>TSLA</td>\n",
       "      <td>Tesla, Inc.</td>\n",
       "    </tr>\n",
       "    <tr>\n",
       "      <th>3</th>\n",
       "      <td>2022-09-29 22:40:07+00:00</td>\n",
       "      <td>@RealDanODowd @WholeMarsBlog @Tesla Hahaha why...</td>\n",
       "      <td>TSLA</td>\n",
       "      <td>Tesla, Inc.</td>\n",
       "    </tr>\n",
       "    <tr>\n",
       "      <th>4</th>\n",
       "      <td>2022-09-29 22:27:05+00:00</td>\n",
       "      <td>@RealDanODowd @Tesla Stop trying to kill kids,...</td>\n",
       "      <td>TSLA</td>\n",
       "      <td>Tesla, Inc.</td>\n",
       "    </tr>\n",
       "  </tbody>\n",
       "</table>\n",
       "</div>"
      ],
      "text/plain": [
       "                        Date  \\\n",
       "0  2022-09-29 23:41:16+00:00   \n",
       "1  2022-09-29 23:24:43+00:00   \n",
       "2  2022-09-29 23:18:08+00:00   \n",
       "3  2022-09-29 22:40:07+00:00   \n",
       "4  2022-09-29 22:27:05+00:00   \n",
       "\n",
       "                                               Tweet Stock Name Company Name  \n",
       "0  Mainstream media has done an amazing job at br...       TSLA  Tesla, Inc.  \n",
       "1  Tesla delivery estimates are at around 364k fr...       TSLA  Tesla, Inc.  \n",
       "2  3/ Even if I include 63.0M unvested RSUs as of...       TSLA  Tesla, Inc.  \n",
       "3  @RealDanODowd @WholeMarsBlog @Tesla Hahaha why...       TSLA  Tesla, Inc.  \n",
       "4  @RealDanODowd @Tesla Stop trying to kill kids,...       TSLA  Tesla, Inc.  "
      ]
     },
     "execution_count": 3,
     "metadata": {},
     "output_type": "execute_result"
    }
   ],
   "source": [
    "df.head()"
   ]
  },
  {
   "cell_type": "code",
   "execution_count": 5,
   "id": "12cb9e44",
   "metadata": {},
   "outputs": [
    {
     "data": {
      "text/plain": [
       "array(['TSLA', 'MSFT', 'PG', 'META', 'AMZN', 'GOOG', 'AMD', 'AAPL',\n",
       "       'NFLX', 'TSM', 'KO', 'F', 'COST', 'DIS', 'VZ', 'CRM', 'INTC', 'BA',\n",
       "       'BX', 'NOC', 'PYPL', 'ENPH', 'NIO', 'ZS', 'XPEV'], dtype=object)"
      ]
     },
     "execution_count": 5,
     "metadata": {},
     "output_type": "execute_result"
    }
   ],
   "source": [
    "df['Stock Name'].unique()"
   ]
  },
  {
   "cell_type": "code",
   "execution_count": 4,
   "id": "f7d8e36c",
   "metadata": {},
   "outputs": [
    {
     "data": {
      "text/plain": [
       "(80793, 4)"
      ]
     },
     "execution_count": 4,
     "metadata": {},
     "output_type": "execute_result"
    }
   ],
   "source": [
    "df.shape"
   ]
  },
  {
   "cell_type": "code",
   "execution_count": 5,
   "id": "2dc665c4",
   "metadata": {},
   "outputs": [
    {
     "data": {
      "text/html": [
       "<div>\n",
       "<style scoped>\n",
       "    .dataframe tbody tr th:only-of-type {\n",
       "        vertical-align: middle;\n",
       "    }\n",
       "\n",
       "    .dataframe tbody tr th {\n",
       "        vertical-align: top;\n",
       "    }\n",
       "\n",
       "    .dataframe thead th {\n",
       "        text-align: right;\n",
       "    }\n",
       "</style>\n",
       "<table border=\"1\" class=\"dataframe\">\n",
       "  <thead>\n",
       "    <tr style=\"text-align: right;\">\n",
       "      <th></th>\n",
       "      <th>Date</th>\n",
       "      <th>Tweet</th>\n",
       "      <th>Stock Name</th>\n",
       "      <th>Company Name</th>\n",
       "    </tr>\n",
       "  </thead>\n",
       "  <tbody>\n",
       "    <tr>\n",
       "      <th>count</th>\n",
       "      <td>80793</td>\n",
       "      <td>80793</td>\n",
       "      <td>80793</td>\n",
       "      <td>80793</td>\n",
       "    </tr>\n",
       "    <tr>\n",
       "      <th>unique</th>\n",
       "      <td>64424</td>\n",
       "      <td>64479</td>\n",
       "      <td>25</td>\n",
       "      <td>25</td>\n",
       "    </tr>\n",
       "    <tr>\n",
       "      <th>top</th>\n",
       "      <td>2022-07-07 18:32:41+00:00</td>\n",
       "      <td>$TSLA will triple in 2022 🚀🌕</td>\n",
       "      <td>TSLA</td>\n",
       "      <td>Tesla, Inc.</td>\n",
       "    </tr>\n",
       "    <tr>\n",
       "      <th>freq</th>\n",
       "      <td>14</td>\n",
       "      <td>25</td>\n",
       "      <td>37422</td>\n",
       "      <td>37422</td>\n",
       "    </tr>\n",
       "  </tbody>\n",
       "</table>\n",
       "</div>"
      ],
      "text/plain": [
       "                             Date                         Tweet Stock Name  \\\n",
       "count                       80793                         80793      80793   \n",
       "unique                      64424                         64479         25   \n",
       "top     2022-07-07 18:32:41+00:00  $TSLA will triple in 2022 🚀🌕       TSLA   \n",
       "freq                           14                            25      37422   \n",
       "\n",
       "       Company Name  \n",
       "count         80793  \n",
       "unique           25  \n",
       "top     Tesla, Inc.  \n",
       "freq          37422  "
      ]
     },
     "execution_count": 5,
     "metadata": {},
     "output_type": "execute_result"
    }
   ],
   "source": [
    "df.describe()"
   ]
  },
  {
   "cell_type": "code",
   "execution_count": 6,
   "id": "cc78f22b",
   "metadata": {},
   "outputs": [
    {
     "data": {
      "text/plain": [
       "Index(['Date', 'Tweet', 'Stock Name', 'Company Name'], dtype='object')"
      ]
     },
     "execution_count": 6,
     "metadata": {},
     "output_type": "execute_result"
    }
   ],
   "source": [
    "df.columns"
   ]
  },
  {
   "cell_type": "code",
   "execution_count": 7,
   "id": "1e634f45",
   "metadata": {},
   "outputs": [],
   "source": [
    "import nltk\n",
    "from nltk.sentiment.vader import SentimentIntensityAnalyzer\n",
    "#import unicodedata"
   ]
  },
  {
   "cell_type": "code",
   "execution_count": 8,
   "id": "25f93e38",
   "metadata": {},
   "outputs": [
    {
     "name": "stderr",
     "output_type": "stream",
     "text": [
      "[nltk_data] Downloading package vader_lexicon to\n",
      "[nltk_data]     C:\\Users\\anike\\AppData\\Roaming\\nltk_data...\n",
      "[nltk_data]   Package vader_lexicon is already up-to-date!\n"
     ]
    },
    {
     "data": {
      "text/plain": [
       "True"
      ]
     },
     "execution_count": 8,
     "metadata": {},
     "output_type": "execute_result"
    }
   ],
   "source": [
    "nltk.download('vader_lexicon')"
   ]
  },
  {
   "cell_type": "code",
   "execution_count": 9,
   "id": "748fb112",
   "metadata": {},
   "outputs": [],
   "source": [
    "analyzer = SentimentIntensityAnalyzer()"
   ]
  },
  {
   "cell_type": "code",
   "execution_count": 10,
   "id": "340c8579",
   "metadata": {},
   "outputs": [],
   "source": [
    "def get_sentiment(text):\n",
    "    sentiment = analyzer.polarity_scores(str(text))  \n",
    "    return pd.Series([sentiment['compound'], sentiment['neg'], sentiment['neu'], sentiment['pos']])\n",
    "\n"
   ]
  },
  {
   "cell_type": "code",
   "execution_count": 11,
   "id": "7a189254",
   "metadata": {},
   "outputs": [],
   "source": [
    "df[['sentiment_score', 'Negative', 'Neutral', 'Positive']] = df['Tweet'].apply(get_sentiment)"
   ]
  },
  {
   "cell_type": "code",
   "execution_count": 12,
   "id": "286f6d7b",
   "metadata": {},
   "outputs": [
    {
     "data": {
      "text/html": [
       "<div>\n",
       "<style scoped>\n",
       "    .dataframe tbody tr th:only-of-type {\n",
       "        vertical-align: middle;\n",
       "    }\n",
       "\n",
       "    .dataframe tbody tr th {\n",
       "        vertical-align: top;\n",
       "    }\n",
       "\n",
       "    .dataframe thead th {\n",
       "        text-align: right;\n",
       "    }\n",
       "</style>\n",
       "<table border=\"1\" class=\"dataframe\">\n",
       "  <thead>\n",
       "    <tr style=\"text-align: right;\">\n",
       "      <th></th>\n",
       "      <th>Date</th>\n",
       "      <th>Tweet</th>\n",
       "      <th>Stock Name</th>\n",
       "      <th>Company Name</th>\n",
       "      <th>sentiment_score</th>\n",
       "      <th>Negative</th>\n",
       "      <th>Neutral</th>\n",
       "      <th>Positive</th>\n",
       "    </tr>\n",
       "  </thead>\n",
       "  <tbody>\n",
       "    <tr>\n",
       "      <th>0</th>\n",
       "      <td>2022-09-29 23:41:16+00:00</td>\n",
       "      <td>Mainstream media has done an amazing job at br...</td>\n",
       "      <td>TSLA</td>\n",
       "      <td>Tesla, Inc.</td>\n",
       "      <td>0.0772</td>\n",
       "      <td>0.127</td>\n",
       "      <td>0.758</td>\n",
       "      <td>0.115</td>\n",
       "    </tr>\n",
       "    <tr>\n",
       "      <th>1</th>\n",
       "      <td>2022-09-29 23:24:43+00:00</td>\n",
       "      <td>Tesla delivery estimates are at around 364k fr...</td>\n",
       "      <td>TSLA</td>\n",
       "      <td>Tesla, Inc.</td>\n",
       "      <td>0.0000</td>\n",
       "      <td>0.000</td>\n",
       "      <td>1.000</td>\n",
       "      <td>0.000</td>\n",
       "    </tr>\n",
       "    <tr>\n",
       "      <th>2</th>\n",
       "      <td>2022-09-29 23:18:08+00:00</td>\n",
       "      <td>3/ Even if I include 63.0M unvested RSUs as of...</td>\n",
       "      <td>TSLA</td>\n",
       "      <td>Tesla, Inc.</td>\n",
       "      <td>0.2960</td>\n",
       "      <td>0.000</td>\n",
       "      <td>0.951</td>\n",
       "      <td>0.049</td>\n",
       "    </tr>\n",
       "    <tr>\n",
       "      <th>3</th>\n",
       "      <td>2022-09-29 22:40:07+00:00</td>\n",
       "      <td>@RealDanODowd @WholeMarsBlog @Tesla Hahaha why...</td>\n",
       "      <td>TSLA</td>\n",
       "      <td>Tesla, Inc.</td>\n",
       "      <td>-0.7568</td>\n",
       "      <td>0.273</td>\n",
       "      <td>0.590</td>\n",
       "      <td>0.137</td>\n",
       "    </tr>\n",
       "    <tr>\n",
       "      <th>4</th>\n",
       "      <td>2022-09-29 22:27:05+00:00</td>\n",
       "      <td>@RealDanODowd @Tesla Stop trying to kill kids,...</td>\n",
       "      <td>TSLA</td>\n",
       "      <td>Tesla, Inc.</td>\n",
       "      <td>-0.8750</td>\n",
       "      <td>0.526</td>\n",
       "      <td>0.474</td>\n",
       "      <td>0.000</td>\n",
       "    </tr>\n",
       "  </tbody>\n",
       "</table>\n",
       "</div>"
      ],
      "text/plain": [
       "                        Date  \\\n",
       "0  2022-09-29 23:41:16+00:00   \n",
       "1  2022-09-29 23:24:43+00:00   \n",
       "2  2022-09-29 23:18:08+00:00   \n",
       "3  2022-09-29 22:40:07+00:00   \n",
       "4  2022-09-29 22:27:05+00:00   \n",
       "\n",
       "                                               Tweet Stock Name Company Name  \\\n",
       "0  Mainstream media has done an amazing job at br...       TSLA  Tesla, Inc.   \n",
       "1  Tesla delivery estimates are at around 364k fr...       TSLA  Tesla, Inc.   \n",
       "2  3/ Even if I include 63.0M unvested RSUs as of...       TSLA  Tesla, Inc.   \n",
       "3  @RealDanODowd @WholeMarsBlog @Tesla Hahaha why...       TSLA  Tesla, Inc.   \n",
       "4  @RealDanODowd @Tesla Stop trying to kill kids,...       TSLA  Tesla, Inc.   \n",
       "\n",
       "   sentiment_score  Negative  Neutral  Positive  \n",
       "0           0.0772     0.127    0.758     0.115  \n",
       "1           0.0000     0.000    1.000     0.000  \n",
       "2           0.2960     0.000    0.951     0.049  \n",
       "3          -0.7568     0.273    0.590     0.137  \n",
       "4          -0.8750     0.526    0.474     0.000  "
      ]
     },
     "execution_count": 12,
     "metadata": {},
     "output_type": "execute_result"
    }
   ],
   "source": [
    "df.head()"
   ]
  },
  {
   "cell_type": "markdown",
   "id": "385a6eb0",
   "metadata": {},
   "source": [
    "## Take \"AMAZON\" as example stock"
   ]
  },
  {
   "cell_type": "code",
   "execution_count": 13,
   "id": "b8d906c0",
   "metadata": {},
   "outputs": [],
   "source": [
    "stock_name = 'AMZN'"
   ]
  },
  {
   "cell_type": "code",
   "execution_count": 14,
   "id": "b1b5da46",
   "metadata": {},
   "outputs": [],
   "source": [
    "amzn_df = df[df['Stock Name'] == stock_name].copy()"
   ]
  },
  {
   "cell_type": "code",
   "execution_count": 15,
   "id": "fac9dae1",
   "metadata": {},
   "outputs": [
    {
     "data": {
      "text/html": [
       "<div>\n",
       "<style scoped>\n",
       "    .dataframe tbody tr th:only-of-type {\n",
       "        vertical-align: middle;\n",
       "    }\n",
       "\n",
       "    .dataframe tbody tr th {\n",
       "        vertical-align: top;\n",
       "    }\n",
       "\n",
       "    .dataframe thead th {\n",
       "        text-align: right;\n",
       "    }\n",
       "</style>\n",
       "<table border=\"1\" class=\"dataframe\">\n",
       "  <thead>\n",
       "    <tr style=\"text-align: right;\">\n",
       "      <th></th>\n",
       "      <th>Date</th>\n",
       "      <th>Tweet</th>\n",
       "      <th>Stock Name</th>\n",
       "      <th>Company Name</th>\n",
       "      <th>sentiment_score</th>\n",
       "      <th>Negative</th>\n",
       "      <th>Neutral</th>\n",
       "      <th>Positive</th>\n",
       "    </tr>\n",
       "  </thead>\n",
       "  <tbody>\n",
       "    <tr>\n",
       "      <th>48351</th>\n",
       "      <td>2022-09-29 22:40:47+00:00</td>\n",
       "      <td>A group of lawmakers led by Sen. Elizabeth War...</td>\n",
       "      <td>AMZN</td>\n",
       "      <td>Amazon.com, Inc.</td>\n",
       "      <td>-0.0772</td>\n",
       "      <td>0.084</td>\n",
       "      <td>0.841</td>\n",
       "      <td>0.075</td>\n",
       "    </tr>\n",
       "    <tr>\n",
       "      <th>48352</th>\n",
       "      <td>2022-09-29 22:23:54+00:00</td>\n",
       "      <td>$NIO just because I'm down money doesn't mean ...</td>\n",
       "      <td>AMZN</td>\n",
       "      <td>Amazon.com, Inc.</td>\n",
       "      <td>0.2500</td>\n",
       "      <td>0.158</td>\n",
       "      <td>0.684</td>\n",
       "      <td>0.158</td>\n",
       "    </tr>\n",
       "    <tr>\n",
       "      <th>48353</th>\n",
       "      <td>2022-09-29 18:34:51+00:00</td>\n",
       "      <td>Today’s drop in $SPX is a perfect example of w...</td>\n",
       "      <td>AMZN</td>\n",
       "      <td>Amazon.com, Inc.</td>\n",
       "      <td>-0.3182</td>\n",
       "      <td>0.164</td>\n",
       "      <td>0.728</td>\n",
       "      <td>0.108</td>\n",
       "    </tr>\n",
       "    <tr>\n",
       "      <th>48354</th>\n",
       "      <td>2022-09-29 15:57:59+00:00</td>\n",
       "      <td>Druckenmiller owned $CVNA this year \\nMunger b...</td>\n",
       "      <td>AMZN</td>\n",
       "      <td>Amazon.com, Inc.</td>\n",
       "      <td>0.2382</td>\n",
       "      <td>0.065</td>\n",
       "      <td>0.851</td>\n",
       "      <td>0.083</td>\n",
       "    </tr>\n",
       "    <tr>\n",
       "      <th>48355</th>\n",
       "      <td>2022-09-29 15:10:30+00:00</td>\n",
       "      <td>Top 10 $QQQ Holdings \\n\\nAnd Credit Rating\\n\\n...</td>\n",
       "      <td>AMZN</td>\n",
       "      <td>Amazon.com, Inc.</td>\n",
       "      <td>0.7783</td>\n",
       "      <td>0.000</td>\n",
       "      <td>0.799</td>\n",
       "      <td>0.201</td>\n",
       "    </tr>\n",
       "    <tr>\n",
       "      <th>...</th>\n",
       "      <td>...</td>\n",
       "      <td>...</td>\n",
       "      <td>...</td>\n",
       "      <td>...</td>\n",
       "      <td>...</td>\n",
       "      <td>...</td>\n",
       "      <td>...</td>\n",
       "      <td>...</td>\n",
       "    </tr>\n",
       "    <tr>\n",
       "      <th>52435</th>\n",
       "      <td>2021-09-30 20:50:16+00:00</td>\n",
       "      <td>My top 10 holdings make up 66% of my portfolio...</td>\n",
       "      <td>AMZN</td>\n",
       "      <td>Amazon.com, Inc.</td>\n",
       "      <td>0.4515</td>\n",
       "      <td>0.000</td>\n",
       "      <td>0.928</td>\n",
       "      <td>0.072</td>\n",
       "    </tr>\n",
       "    <tr>\n",
       "      <th>52436</th>\n",
       "      <td>2021-09-30 19:45:13+00:00</td>\n",
       "      <td>Amazon $AMZN has 4X the market cap of Alibaba ...</td>\n",
       "      <td>AMZN</td>\n",
       "      <td>Amazon.com, Inc.</td>\n",
       "      <td>-0.5106</td>\n",
       "      <td>0.095</td>\n",
       "      <td>0.873</td>\n",
       "      <td>0.032</td>\n",
       "    </tr>\n",
       "    <tr>\n",
       "      <th>52437</th>\n",
       "      <td>2021-09-30 18:01:19+00:00</td>\n",
       "      <td>Returns over the last 10 Years:\\n\\nBitcoin $BT...</td>\n",
       "      <td>AMZN</td>\n",
       "      <td>Amazon.com, Inc.</td>\n",
       "      <td>-0.2263</td>\n",
       "      <td>0.089</td>\n",
       "      <td>0.821</td>\n",
       "      <td>0.091</td>\n",
       "    </tr>\n",
       "    <tr>\n",
       "      <th>52438</th>\n",
       "      <td>2021-09-30 17:56:14+00:00</td>\n",
       "      <td>Great snapshot of what it looks like when an i...</td>\n",
       "      <td>AMZN</td>\n",
       "      <td>Amazon.com, Inc.</td>\n",
       "      <td>0.9369</td>\n",
       "      <td>0.000</td>\n",
       "      <td>0.740</td>\n",
       "      <td>0.260</td>\n",
       "    </tr>\n",
       "    <tr>\n",
       "      <th>52439</th>\n",
       "      <td>2021-09-30 01:59:22+00:00</td>\n",
       "      <td>Shopify is now 9% of US e-commerce. It really ...</td>\n",
       "      <td>AMZN</td>\n",
       "      <td>Amazon.com, Inc.</td>\n",
       "      <td>0.5809</td>\n",
       "      <td>0.000</td>\n",
       "      <td>0.759</td>\n",
       "      <td>0.241</td>\n",
       "    </tr>\n",
       "  </tbody>\n",
       "</table>\n",
       "<p>4089 rows × 8 columns</p>\n",
       "</div>"
      ],
      "text/plain": [
       "                            Date  \\\n",
       "48351  2022-09-29 22:40:47+00:00   \n",
       "48352  2022-09-29 22:23:54+00:00   \n",
       "48353  2022-09-29 18:34:51+00:00   \n",
       "48354  2022-09-29 15:57:59+00:00   \n",
       "48355  2022-09-29 15:10:30+00:00   \n",
       "...                          ...   \n",
       "52435  2021-09-30 20:50:16+00:00   \n",
       "52436  2021-09-30 19:45:13+00:00   \n",
       "52437  2021-09-30 18:01:19+00:00   \n",
       "52438  2021-09-30 17:56:14+00:00   \n",
       "52439  2021-09-30 01:59:22+00:00   \n",
       "\n",
       "                                                   Tweet Stock Name  \\\n",
       "48351  A group of lawmakers led by Sen. Elizabeth War...       AMZN   \n",
       "48352  $NIO just because I'm down money doesn't mean ...       AMZN   \n",
       "48353  Today’s drop in $SPX is a perfect example of w...       AMZN   \n",
       "48354  Druckenmiller owned $CVNA this year \\nMunger b...       AMZN   \n",
       "48355  Top 10 $QQQ Holdings \\n\\nAnd Credit Rating\\n\\n...       AMZN   \n",
       "...                                                  ...        ...   \n",
       "52435  My top 10 holdings make up 66% of my portfolio...       AMZN   \n",
       "52436  Amazon $AMZN has 4X the market cap of Alibaba ...       AMZN   \n",
       "52437  Returns over the last 10 Years:\\n\\nBitcoin $BT...       AMZN   \n",
       "52438  Great snapshot of what it looks like when an i...       AMZN   \n",
       "52439  Shopify is now 9% of US e-commerce. It really ...       AMZN   \n",
       "\n",
       "           Company Name  sentiment_score  Negative  Neutral  Positive  \n",
       "48351  Amazon.com, Inc.          -0.0772     0.084    0.841     0.075  \n",
       "48352  Amazon.com, Inc.           0.2500     0.158    0.684     0.158  \n",
       "48353  Amazon.com, Inc.          -0.3182     0.164    0.728     0.108  \n",
       "48354  Amazon.com, Inc.           0.2382     0.065    0.851     0.083  \n",
       "48355  Amazon.com, Inc.           0.7783     0.000    0.799     0.201  \n",
       "...                 ...              ...       ...      ...       ...  \n",
       "52435  Amazon.com, Inc.           0.4515     0.000    0.928     0.072  \n",
       "52436  Amazon.com, Inc.          -0.5106     0.095    0.873     0.032  \n",
       "52437  Amazon.com, Inc.          -0.2263     0.089    0.821     0.091  \n",
       "52438  Amazon.com, Inc.           0.9369     0.000    0.740     0.260  \n",
       "52439  Amazon.com, Inc.           0.5809     0.000    0.759     0.241  \n",
       "\n",
       "[4089 rows x 8 columns]"
      ]
     },
     "execution_count": 15,
     "metadata": {},
     "output_type": "execute_result"
    }
   ],
   "source": [
    "amzn_df"
   ]
  },
  {
   "cell_type": "code",
   "execution_count": 16,
   "id": "adf4a370",
   "metadata": {},
   "outputs": [],
   "source": [
    "amzn_df['Date'] = pd.to_datetime(amzn_df['Date'])"
   ]
  },
  {
   "cell_type": "code",
   "execution_count": 17,
   "id": "c914d69e",
   "metadata": {},
   "outputs": [],
   "source": [
    "amzn_df['Date'] = amzn_df['Date'].dt.date"
   ]
  },
  {
   "cell_type": "code",
   "execution_count": 18,
   "id": "5696a619",
   "metadata": {},
   "outputs": [
    {
     "data": {
      "text/html": [
       "<div>\n",
       "<style scoped>\n",
       "    .dataframe tbody tr th:only-of-type {\n",
       "        vertical-align: middle;\n",
       "    }\n",
       "\n",
       "    .dataframe tbody tr th {\n",
       "        vertical-align: top;\n",
       "    }\n",
       "\n",
       "    .dataframe thead th {\n",
       "        text-align: right;\n",
       "    }\n",
       "</style>\n",
       "<table border=\"1\" class=\"dataframe\">\n",
       "  <thead>\n",
       "    <tr style=\"text-align: right;\">\n",
       "      <th></th>\n",
       "      <th>Date</th>\n",
       "      <th>Tweet</th>\n",
       "      <th>Stock Name</th>\n",
       "      <th>Company Name</th>\n",
       "      <th>sentiment_score</th>\n",
       "      <th>Negative</th>\n",
       "      <th>Neutral</th>\n",
       "      <th>Positive</th>\n",
       "    </tr>\n",
       "  </thead>\n",
       "  <tbody>\n",
       "    <tr>\n",
       "      <th>48351</th>\n",
       "      <td>2022-09-29</td>\n",
       "      <td>A group of lawmakers led by Sen. Elizabeth War...</td>\n",
       "      <td>AMZN</td>\n",
       "      <td>Amazon.com, Inc.</td>\n",
       "      <td>-0.0772</td>\n",
       "      <td>0.084</td>\n",
       "      <td>0.841</td>\n",
       "      <td>0.075</td>\n",
       "    </tr>\n",
       "    <tr>\n",
       "      <th>48352</th>\n",
       "      <td>2022-09-29</td>\n",
       "      <td>$NIO just because I'm down money doesn't mean ...</td>\n",
       "      <td>AMZN</td>\n",
       "      <td>Amazon.com, Inc.</td>\n",
       "      <td>0.2500</td>\n",
       "      <td>0.158</td>\n",
       "      <td>0.684</td>\n",
       "      <td>0.158</td>\n",
       "    </tr>\n",
       "    <tr>\n",
       "      <th>48353</th>\n",
       "      <td>2022-09-29</td>\n",
       "      <td>Today’s drop in $SPX is a perfect example of w...</td>\n",
       "      <td>AMZN</td>\n",
       "      <td>Amazon.com, Inc.</td>\n",
       "      <td>-0.3182</td>\n",
       "      <td>0.164</td>\n",
       "      <td>0.728</td>\n",
       "      <td>0.108</td>\n",
       "    </tr>\n",
       "    <tr>\n",
       "      <th>48354</th>\n",
       "      <td>2022-09-29</td>\n",
       "      <td>Druckenmiller owned $CVNA this year \\nMunger b...</td>\n",
       "      <td>AMZN</td>\n",
       "      <td>Amazon.com, Inc.</td>\n",
       "      <td>0.2382</td>\n",
       "      <td>0.065</td>\n",
       "      <td>0.851</td>\n",
       "      <td>0.083</td>\n",
       "    </tr>\n",
       "    <tr>\n",
       "      <th>48355</th>\n",
       "      <td>2022-09-29</td>\n",
       "      <td>Top 10 $QQQ Holdings \\n\\nAnd Credit Rating\\n\\n...</td>\n",
       "      <td>AMZN</td>\n",
       "      <td>Amazon.com, Inc.</td>\n",
       "      <td>0.7783</td>\n",
       "      <td>0.000</td>\n",
       "      <td>0.799</td>\n",
       "      <td>0.201</td>\n",
       "    </tr>\n",
       "  </tbody>\n",
       "</table>\n",
       "</div>"
      ],
      "text/plain": [
       "             Date                                              Tweet  \\\n",
       "48351  2022-09-29  A group of lawmakers led by Sen. Elizabeth War...   \n",
       "48352  2022-09-29  $NIO just because I'm down money doesn't mean ...   \n",
       "48353  2022-09-29  Today’s drop in $SPX is a perfect example of w...   \n",
       "48354  2022-09-29  Druckenmiller owned $CVNA this year \\nMunger b...   \n",
       "48355  2022-09-29  Top 10 $QQQ Holdings \\n\\nAnd Credit Rating\\n\\n...   \n",
       "\n",
       "      Stock Name      Company Name  sentiment_score  Negative  Neutral  \\\n",
       "48351       AMZN  Amazon.com, Inc.          -0.0772     0.084    0.841   \n",
       "48352       AMZN  Amazon.com, Inc.           0.2500     0.158    0.684   \n",
       "48353       AMZN  Amazon.com, Inc.          -0.3182     0.164    0.728   \n",
       "48354       AMZN  Amazon.com, Inc.           0.2382     0.065    0.851   \n",
       "48355       AMZN  Amazon.com, Inc.           0.7783     0.000    0.799   \n",
       "\n",
       "       Positive  \n",
       "48351     0.075  \n",
       "48352     0.158  \n",
       "48353     0.108  \n",
       "48354     0.083  \n",
       "48355     0.201  "
      ]
     },
     "execution_count": 18,
     "metadata": {},
     "output_type": "execute_result"
    }
   ],
   "source": [
    "amzn_df.head()"
   ]
  },
  {
   "cell_type": "code",
   "execution_count": 19,
   "id": "19501296",
   "metadata": {},
   "outputs": [],
   "source": [
    "#amzn_df = amzn_df.drop(columns=['Negative', 'Positive', 'Neutral', 'Stock Name', 'Company Name'])"
   ]
  },
  {
   "cell_type": "code",
   "execution_count": 20,
   "id": "5aaf5263",
   "metadata": {},
   "outputs": [
    {
     "data": {
      "text/html": [
       "<div>\n",
       "<style scoped>\n",
       "    .dataframe tbody tr th:only-of-type {\n",
       "        vertical-align: middle;\n",
       "    }\n",
       "\n",
       "    .dataframe tbody tr th {\n",
       "        vertical-align: top;\n",
       "    }\n",
       "\n",
       "    .dataframe thead th {\n",
       "        text-align: right;\n",
       "    }\n",
       "</style>\n",
       "<table border=\"1\" class=\"dataframe\">\n",
       "  <thead>\n",
       "    <tr style=\"text-align: right;\">\n",
       "      <th></th>\n",
       "      <th>Date</th>\n",
       "      <th>Tweet</th>\n",
       "      <th>Stock Name</th>\n",
       "      <th>Company Name</th>\n",
       "      <th>sentiment_score</th>\n",
       "      <th>Negative</th>\n",
       "      <th>Neutral</th>\n",
       "      <th>Positive</th>\n",
       "    </tr>\n",
       "  </thead>\n",
       "  <tbody>\n",
       "    <tr>\n",
       "      <th>48351</th>\n",
       "      <td>2022-09-29</td>\n",
       "      <td>A group of lawmakers led by Sen. Elizabeth War...</td>\n",
       "      <td>AMZN</td>\n",
       "      <td>Amazon.com, Inc.</td>\n",
       "      <td>-0.0772</td>\n",
       "      <td>0.084</td>\n",
       "      <td>0.841</td>\n",
       "      <td>0.075</td>\n",
       "    </tr>\n",
       "    <tr>\n",
       "      <th>48352</th>\n",
       "      <td>2022-09-29</td>\n",
       "      <td>$NIO just because I'm down money doesn't mean ...</td>\n",
       "      <td>AMZN</td>\n",
       "      <td>Amazon.com, Inc.</td>\n",
       "      <td>0.2500</td>\n",
       "      <td>0.158</td>\n",
       "      <td>0.684</td>\n",
       "      <td>0.158</td>\n",
       "    </tr>\n",
       "    <tr>\n",
       "      <th>48353</th>\n",
       "      <td>2022-09-29</td>\n",
       "      <td>Today’s drop in $SPX is a perfect example of w...</td>\n",
       "      <td>AMZN</td>\n",
       "      <td>Amazon.com, Inc.</td>\n",
       "      <td>-0.3182</td>\n",
       "      <td>0.164</td>\n",
       "      <td>0.728</td>\n",
       "      <td>0.108</td>\n",
       "    </tr>\n",
       "    <tr>\n",
       "      <th>48354</th>\n",
       "      <td>2022-09-29</td>\n",
       "      <td>Druckenmiller owned $CVNA this year \\nMunger b...</td>\n",
       "      <td>AMZN</td>\n",
       "      <td>Amazon.com, Inc.</td>\n",
       "      <td>0.2382</td>\n",
       "      <td>0.065</td>\n",
       "      <td>0.851</td>\n",
       "      <td>0.083</td>\n",
       "    </tr>\n",
       "    <tr>\n",
       "      <th>48355</th>\n",
       "      <td>2022-09-29</td>\n",
       "      <td>Top 10 $QQQ Holdings \\n\\nAnd Credit Rating\\n\\n...</td>\n",
       "      <td>AMZN</td>\n",
       "      <td>Amazon.com, Inc.</td>\n",
       "      <td>0.7783</td>\n",
       "      <td>0.000</td>\n",
       "      <td>0.799</td>\n",
       "      <td>0.201</td>\n",
       "    </tr>\n",
       "  </tbody>\n",
       "</table>\n",
       "</div>"
      ],
      "text/plain": [
       "             Date                                              Tweet  \\\n",
       "48351  2022-09-29  A group of lawmakers led by Sen. Elizabeth War...   \n",
       "48352  2022-09-29  $NIO just because I'm down money doesn't mean ...   \n",
       "48353  2022-09-29  Today’s drop in $SPX is a perfect example of w...   \n",
       "48354  2022-09-29  Druckenmiller owned $CVNA this year \\nMunger b...   \n",
       "48355  2022-09-29  Top 10 $QQQ Holdings \\n\\nAnd Credit Rating\\n\\n...   \n",
       "\n",
       "      Stock Name      Company Name  sentiment_score  Negative  Neutral  \\\n",
       "48351       AMZN  Amazon.com, Inc.          -0.0772     0.084    0.841   \n",
       "48352       AMZN  Amazon.com, Inc.           0.2500     0.158    0.684   \n",
       "48353       AMZN  Amazon.com, Inc.          -0.3182     0.164    0.728   \n",
       "48354       AMZN  Amazon.com, Inc.           0.2382     0.065    0.851   \n",
       "48355       AMZN  Amazon.com, Inc.           0.7783     0.000    0.799   \n",
       "\n",
       "       Positive  \n",
       "48351     0.075  \n",
       "48352     0.158  \n",
       "48353     0.108  \n",
       "48354     0.083  \n",
       "48355     0.201  "
      ]
     },
     "execution_count": 20,
     "metadata": {},
     "output_type": "execute_result"
    }
   ],
   "source": [
    "amzn_df.head()"
   ]
  },
  {
   "cell_type": "code",
   "execution_count": 21,
   "id": "4b5e8622",
   "metadata": {},
   "outputs": [
    {
     "name": "stderr",
     "output_type": "stream",
     "text": [
      "C:\\Users\\anike\\AppData\\Local\\Temp\\ipykernel_33548\\1377599802.py:1: FutureWarning: The default value of numeric_only in DataFrameGroupBy.mean is deprecated. In a future version, numeric_only will default to False. Either specify numeric_only or select only columns which should be valid for the function.\n",
      "  daily_sentiment = amzn_df.groupby([amzn_df['Date']]).mean()\n"
     ]
    }
   ],
   "source": [
    "daily_sentiment = amzn_df.groupby([amzn_df['Date']]).mean()"
   ]
  },
  {
   "cell_type": "code",
   "execution_count": 22,
   "id": "fbb36ee1",
   "metadata": {},
   "outputs": [
    {
     "data": {
      "text/html": [
       "<div>\n",
       "<style scoped>\n",
       "    .dataframe tbody tr th:only-of-type {\n",
       "        vertical-align: middle;\n",
       "    }\n",
       "\n",
       "    .dataframe tbody tr th {\n",
       "        vertical-align: top;\n",
       "    }\n",
       "\n",
       "    .dataframe thead th {\n",
       "        text-align: right;\n",
       "    }\n",
       "</style>\n",
       "<table border=\"1\" class=\"dataframe\">\n",
       "  <thead>\n",
       "    <tr style=\"text-align: right;\">\n",
       "      <th></th>\n",
       "      <th>sentiment_score</th>\n",
       "      <th>Negative</th>\n",
       "      <th>Neutral</th>\n",
       "      <th>Positive</th>\n",
       "    </tr>\n",
       "    <tr>\n",
       "      <th>Date</th>\n",
       "      <th></th>\n",
       "      <th></th>\n",
       "      <th></th>\n",
       "      <th></th>\n",
       "    </tr>\n",
       "  </thead>\n",
       "  <tbody>\n",
       "    <tr>\n",
       "      <th>2021-09-30</th>\n",
       "      <td>0.246480</td>\n",
       "      <td>0.036800</td>\n",
       "      <td>0.824200</td>\n",
       "      <td>0.139200</td>\n",
       "    </tr>\n",
       "    <tr>\n",
       "      <th>2021-10-01</th>\n",
       "      <td>0.359337</td>\n",
       "      <td>0.021875</td>\n",
       "      <td>0.863750</td>\n",
       "      <td>0.114375</td>\n",
       "    </tr>\n",
       "    <tr>\n",
       "      <th>2021-10-02</th>\n",
       "      <td>-0.000700</td>\n",
       "      <td>0.056333</td>\n",
       "      <td>0.846667</td>\n",
       "      <td>0.097000</td>\n",
       "    </tr>\n",
       "    <tr>\n",
       "      <th>2021-10-03</th>\n",
       "      <td>0.834400</td>\n",
       "      <td>0.000000</td>\n",
       "      <td>0.830000</td>\n",
       "      <td>0.170000</td>\n",
       "    </tr>\n",
       "    <tr>\n",
       "      <th>2021-10-04</th>\n",
       "      <td>0.258650</td>\n",
       "      <td>0.015583</td>\n",
       "      <td>0.883750</td>\n",
       "      <td>0.100583</td>\n",
       "    </tr>\n",
       "  </tbody>\n",
       "</table>\n",
       "</div>"
      ],
      "text/plain": [
       "            sentiment_score  Negative   Neutral  Positive\n",
       "Date                                                     \n",
       "2021-09-30         0.246480  0.036800  0.824200  0.139200\n",
       "2021-10-01         0.359337  0.021875  0.863750  0.114375\n",
       "2021-10-02        -0.000700  0.056333  0.846667  0.097000\n",
       "2021-10-03         0.834400  0.000000  0.830000  0.170000\n",
       "2021-10-04         0.258650  0.015583  0.883750  0.100583"
      ]
     },
     "execution_count": 22,
     "metadata": {},
     "output_type": "execute_result"
    }
   ],
   "source": [
    "daily_sentiment.head()"
   ]
  },
  {
   "cell_type": "code",
   "execution_count": 23,
   "id": "fb50f143",
   "metadata": {},
   "outputs": [
    {
     "name": "stdout",
     "output_type": "stream",
     "text": [
      "(6300, 8)\n"
     ]
    },
    {
     "data": {
      "text/html": [
       "<div>\n",
       "<style scoped>\n",
       "    .dataframe tbody tr th:only-of-type {\n",
       "        vertical-align: middle;\n",
       "    }\n",
       "\n",
       "    .dataframe tbody tr th {\n",
       "        vertical-align: top;\n",
       "    }\n",
       "\n",
       "    .dataframe thead th {\n",
       "        text-align: right;\n",
       "    }\n",
       "</style>\n",
       "<table border=\"1\" class=\"dataframe\">\n",
       "  <thead>\n",
       "    <tr style=\"text-align: right;\">\n",
       "      <th></th>\n",
       "      <th>Date</th>\n",
       "      <th>Open</th>\n",
       "      <th>High</th>\n",
       "      <th>Low</th>\n",
       "      <th>Close</th>\n",
       "      <th>Adj Close</th>\n",
       "      <th>Volume</th>\n",
       "      <th>Stock Name</th>\n",
       "    </tr>\n",
       "  </thead>\n",
       "  <tbody>\n",
       "    <tr>\n",
       "      <th>0</th>\n",
       "      <td>2021-09-30</td>\n",
       "      <td>260.333344</td>\n",
       "      <td>263.043335</td>\n",
       "      <td>258.333344</td>\n",
       "      <td>258.493347</td>\n",
       "      <td>258.493347</td>\n",
       "      <td>53868000</td>\n",
       "      <td>TSLA</td>\n",
       "    </tr>\n",
       "    <tr>\n",
       "      <th>1</th>\n",
       "      <td>2021-10-01</td>\n",
       "      <td>259.466675</td>\n",
       "      <td>260.260010</td>\n",
       "      <td>254.529999</td>\n",
       "      <td>258.406677</td>\n",
       "      <td>258.406677</td>\n",
       "      <td>51094200</td>\n",
       "      <td>TSLA</td>\n",
       "    </tr>\n",
       "    <tr>\n",
       "      <th>2</th>\n",
       "      <td>2021-10-04</td>\n",
       "      <td>265.500000</td>\n",
       "      <td>268.989990</td>\n",
       "      <td>258.706665</td>\n",
       "      <td>260.510010</td>\n",
       "      <td>260.510010</td>\n",
       "      <td>91449900</td>\n",
       "      <td>TSLA</td>\n",
       "    </tr>\n",
       "    <tr>\n",
       "      <th>3</th>\n",
       "      <td>2021-10-05</td>\n",
       "      <td>261.600006</td>\n",
       "      <td>265.769989</td>\n",
       "      <td>258.066681</td>\n",
       "      <td>260.196655</td>\n",
       "      <td>260.196655</td>\n",
       "      <td>55297800</td>\n",
       "      <td>TSLA</td>\n",
       "    </tr>\n",
       "    <tr>\n",
       "      <th>4</th>\n",
       "      <td>2021-10-06</td>\n",
       "      <td>258.733337</td>\n",
       "      <td>262.220001</td>\n",
       "      <td>257.739990</td>\n",
       "      <td>260.916656</td>\n",
       "      <td>260.916656</td>\n",
       "      <td>43898400</td>\n",
       "      <td>TSLA</td>\n",
       "    </tr>\n",
       "  </tbody>\n",
       "</table>\n",
       "</div>"
      ],
      "text/plain": [
       "         Date        Open        High         Low       Close   Adj Close  \\\n",
       "0  2021-09-30  260.333344  263.043335  258.333344  258.493347  258.493347   \n",
       "1  2021-10-01  259.466675  260.260010  254.529999  258.406677  258.406677   \n",
       "2  2021-10-04  265.500000  268.989990  258.706665  260.510010  260.510010   \n",
       "3  2021-10-05  261.600006  265.769989  258.066681  260.196655  260.196655   \n",
       "4  2021-10-06  258.733337  262.220001  257.739990  260.916656  260.916656   \n",
       "\n",
       "     Volume Stock Name  \n",
       "0  53868000       TSLA  \n",
       "1  51094200       TSLA  \n",
       "2  91449900       TSLA  \n",
       "3  55297800       TSLA  \n",
       "4  43898400       TSLA  "
      ]
     },
     "execution_count": 23,
     "metadata": {},
     "output_type": "execute_result"
    }
   ],
   "source": [
    "all_stocks = pd.read_csv('stock_yfinance_data.csv')\n",
    "print(all_stocks.shape)\n",
    "all_stocks.head()"
   ]
  },
  {
   "cell_type": "code",
   "execution_count": 24,
   "id": "96ef9701",
   "metadata": {},
   "outputs": [],
   "source": [
    "stock_df = all_stocks[all_stocks['Stock Name'] == 'AMZN']"
   ]
  },
  {
   "cell_type": "code",
   "execution_count": 25,
   "id": "59893f8b",
   "metadata": {},
   "outputs": [
    {
     "data": {
      "text/html": [
       "<div>\n",
       "<style scoped>\n",
       "    .dataframe tbody tr th:only-of-type {\n",
       "        vertical-align: middle;\n",
       "    }\n",
       "\n",
       "    .dataframe tbody tr th {\n",
       "        vertical-align: top;\n",
       "    }\n",
       "\n",
       "    .dataframe thead th {\n",
       "        text-align: right;\n",
       "    }\n",
       "</style>\n",
       "<table border=\"1\" class=\"dataframe\">\n",
       "  <thead>\n",
       "    <tr style=\"text-align: right;\">\n",
       "      <th></th>\n",
       "      <th>Date</th>\n",
       "      <th>Open</th>\n",
       "      <th>High</th>\n",
       "      <th>Low</th>\n",
       "      <th>Close</th>\n",
       "      <th>Adj Close</th>\n",
       "      <th>Volume</th>\n",
       "      <th>Stock Name</th>\n",
       "    </tr>\n",
       "  </thead>\n",
       "  <tbody>\n",
       "    <tr>\n",
       "      <th>1008</th>\n",
       "      <td>2021-09-30</td>\n",
       "      <td>165.800003</td>\n",
       "      <td>166.392502</td>\n",
       "      <td>163.699493</td>\n",
       "      <td>164.251999</td>\n",
       "      <td>164.251999</td>\n",
       "      <td>56848000</td>\n",
       "      <td>AMZN</td>\n",
       "    </tr>\n",
       "    <tr>\n",
       "      <th>1009</th>\n",
       "      <td>2021-10-01</td>\n",
       "      <td>164.450500</td>\n",
       "      <td>165.458496</td>\n",
       "      <td>162.796997</td>\n",
       "      <td>164.162994</td>\n",
       "      <td>164.162994</td>\n",
       "      <td>56712000</td>\n",
       "      <td>AMZN</td>\n",
       "    </tr>\n",
       "    <tr>\n",
       "      <th>1010</th>\n",
       "      <td>2021-10-04</td>\n",
       "      <td>163.969498</td>\n",
       "      <td>163.999496</td>\n",
       "      <td>158.812500</td>\n",
       "      <td>159.488998</td>\n",
       "      <td>159.488998</td>\n",
       "      <td>90462000</td>\n",
       "      <td>AMZN</td>\n",
       "    </tr>\n",
       "    <tr>\n",
       "      <th>1011</th>\n",
       "      <td>2021-10-05</td>\n",
       "      <td>160.225006</td>\n",
       "      <td>163.036499</td>\n",
       "      <td>160.123001</td>\n",
       "      <td>161.050003</td>\n",
       "      <td>161.050003</td>\n",
       "      <td>65384000</td>\n",
       "      <td>AMZN</td>\n",
       "    </tr>\n",
       "    <tr>\n",
       "      <th>1012</th>\n",
       "      <td>2021-10-06</td>\n",
       "      <td>160.676498</td>\n",
       "      <td>163.216995</td>\n",
       "      <td>159.931000</td>\n",
       "      <td>163.100494</td>\n",
       "      <td>163.100494</td>\n",
       "      <td>50660000</td>\n",
       "      <td>AMZN</td>\n",
       "    </tr>\n",
       "    <tr>\n",
       "      <th>...</th>\n",
       "      <td>...</td>\n",
       "      <td>...</td>\n",
       "      <td>...</td>\n",
       "      <td>...</td>\n",
       "      <td>...</td>\n",
       "      <td>...</td>\n",
       "      <td>...</td>\n",
       "      <td>...</td>\n",
       "    </tr>\n",
       "    <tr>\n",
       "      <th>1255</th>\n",
       "      <td>2022-09-23</td>\n",
       "      <td>116.000000</td>\n",
       "      <td>116.050003</td>\n",
       "      <td>112.059998</td>\n",
       "      <td>113.779999</td>\n",
       "      <td>113.779999</td>\n",
       "      <td>65126700</td>\n",
       "      <td>AMZN</td>\n",
       "    </tr>\n",
       "    <tr>\n",
       "      <th>1256</th>\n",
       "      <td>2022-09-26</td>\n",
       "      <td>113.300003</td>\n",
       "      <td>117.339996</td>\n",
       "      <td>113.129997</td>\n",
       "      <td>115.150002</td>\n",
       "      <td>115.150002</td>\n",
       "      <td>62723300</td>\n",
       "      <td>AMZN</td>\n",
       "    </tr>\n",
       "    <tr>\n",
       "      <th>1257</th>\n",
       "      <td>2022-09-27</td>\n",
       "      <td>117.199997</td>\n",
       "      <td>118.320000</td>\n",
       "      <td>113.050003</td>\n",
       "      <td>114.410004</td>\n",
       "      <td>114.410004</td>\n",
       "      <td>60094700</td>\n",
       "      <td>AMZN</td>\n",
       "    </tr>\n",
       "    <tr>\n",
       "      <th>1258</th>\n",
       "      <td>2022-09-28</td>\n",
       "      <td>114.379997</td>\n",
       "      <td>118.699997</td>\n",
       "      <td>113.800003</td>\n",
       "      <td>118.010002</td>\n",
       "      <td>118.010002</td>\n",
       "      <td>55763800</td>\n",
       "      <td>AMZN</td>\n",
       "    </tr>\n",
       "    <tr>\n",
       "      <th>1259</th>\n",
       "      <td>2022-09-29</td>\n",
       "      <td>115.599998</td>\n",
       "      <td>116.070000</td>\n",
       "      <td>113.059998</td>\n",
       "      <td>114.800003</td>\n",
       "      <td>114.800003</td>\n",
       "      <td>58969700</td>\n",
       "      <td>AMZN</td>\n",
       "    </tr>\n",
       "  </tbody>\n",
       "</table>\n",
       "<p>252 rows × 8 columns</p>\n",
       "</div>"
      ],
      "text/plain": [
       "            Date        Open        High         Low       Close   Adj Close  \\\n",
       "1008  2021-09-30  165.800003  166.392502  163.699493  164.251999  164.251999   \n",
       "1009  2021-10-01  164.450500  165.458496  162.796997  164.162994  164.162994   \n",
       "1010  2021-10-04  163.969498  163.999496  158.812500  159.488998  159.488998   \n",
       "1011  2021-10-05  160.225006  163.036499  160.123001  161.050003  161.050003   \n",
       "1012  2021-10-06  160.676498  163.216995  159.931000  163.100494  163.100494   \n",
       "...          ...         ...         ...         ...         ...         ...   \n",
       "1255  2022-09-23  116.000000  116.050003  112.059998  113.779999  113.779999   \n",
       "1256  2022-09-26  113.300003  117.339996  113.129997  115.150002  115.150002   \n",
       "1257  2022-09-27  117.199997  118.320000  113.050003  114.410004  114.410004   \n",
       "1258  2022-09-28  114.379997  118.699997  113.800003  118.010002  118.010002   \n",
       "1259  2022-09-29  115.599998  116.070000  113.059998  114.800003  114.800003   \n",
       "\n",
       "        Volume Stock Name  \n",
       "1008  56848000       AMZN  \n",
       "1009  56712000       AMZN  \n",
       "1010  90462000       AMZN  \n",
       "1011  65384000       AMZN  \n",
       "1012  50660000       AMZN  \n",
       "...        ...        ...  \n",
       "1255  65126700       AMZN  \n",
       "1256  62723300       AMZN  \n",
       "1257  60094700       AMZN  \n",
       "1258  55763800       AMZN  \n",
       "1259  58969700       AMZN  \n",
       "\n",
       "[252 rows x 8 columns]"
      ]
     },
     "execution_count": 25,
     "metadata": {},
     "output_type": "execute_result"
    }
   ],
   "source": [
    "stock_df"
   ]
  },
  {
   "cell_type": "code",
   "execution_count": 26,
   "id": "988ed76a",
   "metadata": {},
   "outputs": [
    {
     "name": "stderr",
     "output_type": "stream",
     "text": [
      "C:\\Users\\anike\\AppData\\Local\\Temp\\ipykernel_33548\\3629404903.py:1: SettingWithCopyWarning: \n",
      "A value is trying to be set on a copy of a slice from a DataFrame.\n",
      "Try using .loc[row_indexer,col_indexer] = value instead\n",
      "\n",
      "See the caveats in the documentation: https://pandas.pydata.org/pandas-docs/stable/user_guide/indexing.html#returning-a-view-versus-a-copy\n",
      "  stock_df['Date'] = pd.to_datetime(stock_df['Date'])\n"
     ]
    }
   ],
   "source": [
    "stock_df['Date'] = pd.to_datetime(stock_df['Date'])"
   ]
  },
  {
   "cell_type": "code",
   "execution_count": 27,
   "id": "e0883990",
   "metadata": {},
   "outputs": [
    {
     "data": {
      "text/html": [
       "<div>\n",
       "<style scoped>\n",
       "    .dataframe tbody tr th:only-of-type {\n",
       "        vertical-align: middle;\n",
       "    }\n",
       "\n",
       "    .dataframe tbody tr th {\n",
       "        vertical-align: top;\n",
       "    }\n",
       "\n",
       "    .dataframe thead th {\n",
       "        text-align: right;\n",
       "    }\n",
       "</style>\n",
       "<table border=\"1\" class=\"dataframe\">\n",
       "  <thead>\n",
       "    <tr style=\"text-align: right;\">\n",
       "      <th></th>\n",
       "      <th>Date</th>\n",
       "      <th>Open</th>\n",
       "      <th>High</th>\n",
       "      <th>Low</th>\n",
       "      <th>Close</th>\n",
       "      <th>Adj Close</th>\n",
       "      <th>Volume</th>\n",
       "      <th>Stock Name</th>\n",
       "    </tr>\n",
       "  </thead>\n",
       "  <tbody>\n",
       "    <tr>\n",
       "      <th>1008</th>\n",
       "      <td>2021-09-30</td>\n",
       "      <td>165.800003</td>\n",
       "      <td>166.392502</td>\n",
       "      <td>163.699493</td>\n",
       "      <td>164.251999</td>\n",
       "      <td>164.251999</td>\n",
       "      <td>56848000</td>\n",
       "      <td>AMZN</td>\n",
       "    </tr>\n",
       "    <tr>\n",
       "      <th>1009</th>\n",
       "      <td>2021-10-01</td>\n",
       "      <td>164.450500</td>\n",
       "      <td>165.458496</td>\n",
       "      <td>162.796997</td>\n",
       "      <td>164.162994</td>\n",
       "      <td>164.162994</td>\n",
       "      <td>56712000</td>\n",
       "      <td>AMZN</td>\n",
       "    </tr>\n",
       "    <tr>\n",
       "      <th>1010</th>\n",
       "      <td>2021-10-04</td>\n",
       "      <td>163.969498</td>\n",
       "      <td>163.999496</td>\n",
       "      <td>158.812500</td>\n",
       "      <td>159.488998</td>\n",
       "      <td>159.488998</td>\n",
       "      <td>90462000</td>\n",
       "      <td>AMZN</td>\n",
       "    </tr>\n",
       "    <tr>\n",
       "      <th>1011</th>\n",
       "      <td>2021-10-05</td>\n",
       "      <td>160.225006</td>\n",
       "      <td>163.036499</td>\n",
       "      <td>160.123001</td>\n",
       "      <td>161.050003</td>\n",
       "      <td>161.050003</td>\n",
       "      <td>65384000</td>\n",
       "      <td>AMZN</td>\n",
       "    </tr>\n",
       "    <tr>\n",
       "      <th>1012</th>\n",
       "      <td>2021-10-06</td>\n",
       "      <td>160.676498</td>\n",
       "      <td>163.216995</td>\n",
       "      <td>159.931000</td>\n",
       "      <td>163.100494</td>\n",
       "      <td>163.100494</td>\n",
       "      <td>50660000</td>\n",
       "      <td>AMZN</td>\n",
       "    </tr>\n",
       "  </tbody>\n",
       "</table>\n",
       "</div>"
      ],
      "text/plain": [
       "           Date        Open        High         Low       Close   Adj Close  \\\n",
       "1008 2021-09-30  165.800003  166.392502  163.699493  164.251999  164.251999   \n",
       "1009 2021-10-01  164.450500  165.458496  162.796997  164.162994  164.162994   \n",
       "1010 2021-10-04  163.969498  163.999496  158.812500  159.488998  159.488998   \n",
       "1011 2021-10-05  160.225006  163.036499  160.123001  161.050003  161.050003   \n",
       "1012 2021-10-06  160.676498  163.216995  159.931000  163.100494  163.100494   \n",
       "\n",
       "        Volume Stock Name  \n",
       "1008  56848000       AMZN  \n",
       "1009  56712000       AMZN  \n",
       "1010  90462000       AMZN  \n",
       "1011  65384000       AMZN  \n",
       "1012  50660000       AMZN  "
      ]
     },
     "execution_count": 27,
     "metadata": {},
     "output_type": "execute_result"
    }
   ],
   "source": [
    "stock_df.head()"
   ]
  },
  {
   "cell_type": "code",
   "execution_count": 28,
   "id": "49f96371",
   "metadata": {},
   "outputs": [],
   "source": [
    "stock_df.set_index('Date', inplace=True)"
   ]
  },
  {
   "cell_type": "code",
   "execution_count": 29,
   "id": "98f892c7",
   "metadata": {},
   "outputs": [],
   "source": [
    "merged_df = stock_df.merge(daily_sentiment, left_index=True, right_index=True, how='inner')\n"
   ]
  },
  {
   "cell_type": "code",
   "execution_count": 30,
   "id": "04c268c3",
   "metadata": {},
   "outputs": [
    {
     "data": {
      "text/html": [
       "<div>\n",
       "<style scoped>\n",
       "    .dataframe tbody tr th:only-of-type {\n",
       "        vertical-align: middle;\n",
       "    }\n",
       "\n",
       "    .dataframe tbody tr th {\n",
       "        vertical-align: top;\n",
       "    }\n",
       "\n",
       "    .dataframe thead th {\n",
       "        text-align: right;\n",
       "    }\n",
       "</style>\n",
       "<table border=\"1\" class=\"dataframe\">\n",
       "  <thead>\n",
       "    <tr style=\"text-align: right;\">\n",
       "      <th></th>\n",
       "      <th>Open</th>\n",
       "      <th>High</th>\n",
       "      <th>Low</th>\n",
       "      <th>Close</th>\n",
       "      <th>Adj Close</th>\n",
       "      <th>Volume</th>\n",
       "      <th>Stock Name</th>\n",
       "      <th>sentiment_score</th>\n",
       "      <th>Negative</th>\n",
       "      <th>Neutral</th>\n",
       "      <th>Positive</th>\n",
       "    </tr>\n",
       "    <tr>\n",
       "      <th>Date</th>\n",
       "      <th></th>\n",
       "      <th></th>\n",
       "      <th></th>\n",
       "      <th></th>\n",
       "      <th></th>\n",
       "      <th></th>\n",
       "      <th></th>\n",
       "      <th></th>\n",
       "      <th></th>\n",
       "      <th></th>\n",
       "      <th></th>\n",
       "    </tr>\n",
       "  </thead>\n",
       "  <tbody>\n",
       "    <tr>\n",
       "      <th>2021-09-30</th>\n",
       "      <td>165.800003</td>\n",
       "      <td>166.392502</td>\n",
       "      <td>163.699493</td>\n",
       "      <td>164.251999</td>\n",
       "      <td>164.251999</td>\n",
       "      <td>56848000</td>\n",
       "      <td>AMZN</td>\n",
       "      <td>0.246480</td>\n",
       "      <td>0.036800</td>\n",
       "      <td>0.824200</td>\n",
       "      <td>0.139200</td>\n",
       "    </tr>\n",
       "    <tr>\n",
       "      <th>2021-10-01</th>\n",
       "      <td>164.450500</td>\n",
       "      <td>165.458496</td>\n",
       "      <td>162.796997</td>\n",
       "      <td>164.162994</td>\n",
       "      <td>164.162994</td>\n",
       "      <td>56712000</td>\n",
       "      <td>AMZN</td>\n",
       "      <td>0.359337</td>\n",
       "      <td>0.021875</td>\n",
       "      <td>0.863750</td>\n",
       "      <td>0.114375</td>\n",
       "    </tr>\n",
       "    <tr>\n",
       "      <th>2021-10-04</th>\n",
       "      <td>163.969498</td>\n",
       "      <td>163.999496</td>\n",
       "      <td>158.812500</td>\n",
       "      <td>159.488998</td>\n",
       "      <td>159.488998</td>\n",
       "      <td>90462000</td>\n",
       "      <td>AMZN</td>\n",
       "      <td>0.258650</td>\n",
       "      <td>0.015583</td>\n",
       "      <td>0.883750</td>\n",
       "      <td>0.100583</td>\n",
       "    </tr>\n",
       "    <tr>\n",
       "      <th>2021-10-05</th>\n",
       "      <td>160.225006</td>\n",
       "      <td>163.036499</td>\n",
       "      <td>160.123001</td>\n",
       "      <td>161.050003</td>\n",
       "      <td>161.050003</td>\n",
       "      <td>65384000</td>\n",
       "      <td>AMZN</td>\n",
       "      <td>0.045500</td>\n",
       "      <td>0.059667</td>\n",
       "      <td>0.892167</td>\n",
       "      <td>0.048167</td>\n",
       "    </tr>\n",
       "    <tr>\n",
       "      <th>2021-10-06</th>\n",
       "      <td>160.676498</td>\n",
       "      <td>163.216995</td>\n",
       "      <td>159.931000</td>\n",
       "      <td>163.100494</td>\n",
       "      <td>163.100494</td>\n",
       "      <td>50660000</td>\n",
       "      <td>AMZN</td>\n",
       "      <td>0.194300</td>\n",
       "      <td>0.024714</td>\n",
       "      <td>0.918286</td>\n",
       "      <td>0.057000</td>\n",
       "    </tr>\n",
       "  </tbody>\n",
       "</table>\n",
       "</div>"
      ],
      "text/plain": [
       "                  Open        High         Low       Close   Adj Close  \\\n",
       "Date                                                                     \n",
       "2021-09-30  165.800003  166.392502  163.699493  164.251999  164.251999   \n",
       "2021-10-01  164.450500  165.458496  162.796997  164.162994  164.162994   \n",
       "2021-10-04  163.969498  163.999496  158.812500  159.488998  159.488998   \n",
       "2021-10-05  160.225006  163.036499  160.123001  161.050003  161.050003   \n",
       "2021-10-06  160.676498  163.216995  159.931000  163.100494  163.100494   \n",
       "\n",
       "              Volume Stock Name  sentiment_score  Negative   Neutral  Positive  \n",
       "Date                                                                            \n",
       "2021-09-30  56848000       AMZN         0.246480  0.036800  0.824200  0.139200  \n",
       "2021-10-01  56712000       AMZN         0.359337  0.021875  0.863750  0.114375  \n",
       "2021-10-04  90462000       AMZN         0.258650  0.015583  0.883750  0.100583  \n",
       "2021-10-05  65384000       AMZN         0.045500  0.059667  0.892167  0.048167  \n",
       "2021-10-06  50660000       AMZN         0.194300  0.024714  0.918286  0.057000  "
      ]
     },
     "execution_count": 30,
     "metadata": {},
     "output_type": "execute_result"
    }
   ],
   "source": [
    "merged_df.head()"
   ]
  },
  {
   "cell_type": "code",
   "execution_count": 31,
   "id": "78778e7b",
   "metadata": {},
   "outputs": [],
   "source": [
    "merged_df['MA10'] = merged_df['Close'].rolling(window=10).mean()\n",
    "merged_df['MA30'] = merged_df['Close'].rolling(window=30).mean()\n"
   ]
  },
  {
   "cell_type": "code",
   "execution_count": 32,
   "id": "4ce2c621",
   "metadata": {},
   "outputs": [
    {
     "name": "stderr",
     "output_type": "stream",
     "text": [
      "C:\\Users\\anike\\AppData\\Local\\Temp\\ipykernel_33548\\3919394640.py:1: FutureWarning: The default value of numeric_only in DataFrame.corr is deprecated. In a future version, it will default to False. Select only valid columns or specify the value of numeric_only to silence this warning.\n",
      "  print(merged_df.corr()['Close'].sort_values(ascending=False))\n"
     ]
    },
    {
     "name": "stdout",
     "output_type": "stream",
     "text": [
      "Close              1.000000\n",
      "Adj Close          1.000000\n",
      "Low                0.996638\n",
      "High               0.996538\n",
      "Open               0.991707\n",
      "MA10               0.957614\n",
      "MA30               0.849661\n",
      "Neutral            0.135566\n",
      "sentiment_score    0.094554\n",
      "Positive          -0.043672\n",
      "Negative          -0.144453\n",
      "Volume            -0.215750\n",
      "Name: Close, dtype: float64\n"
     ]
    }
   ],
   "source": [
    "print(merged_df.corr()['Close'].sort_values(ascending=False))\n"
   ]
  },
  {
   "cell_type": "code",
   "execution_count": 33,
   "id": "b40bc9e1",
   "metadata": {},
   "outputs": [
    {
     "name": "stderr",
     "output_type": "stream",
     "text": [
      "C:\\Users\\anike\\AppData\\Local\\Temp\\ipykernel_33548\\3699120657.py:1: FutureWarning: The default value of numeric_only in DataFrame.corr is deprecated. In a future version, it will default to False. Select only valid columns or specify the value of numeric_only to silence this warning.\n",
      "  sns.heatmap(merged_df.corr())\n"
     ]
    },
    {
     "data": {
      "text/plain": [
       "<Axes: >"
      ]
     },
     "execution_count": 33,
     "metadata": {},
     "output_type": "execute_result"
    },
    {
     "data": {
      "image/png": "[encoded data removed]",
      "text/plain": [
       "<Figure size 640x480 with 2 Axes>"
      ]
     },
     "metadata": {},
     "output_type": "display_data"
    }
   ],
   "source": [
    "sns.heatmap(merged_df.corr())"
   ]
  },
  {
   "cell_type": "code",
   "execution_count": 34,
   "id": "b3a3b545",
   "metadata": {},
   "outputs": [],
   "source": [
    "scaled_df= merged_df[['sentiment_score', 'Negative', 'Neutral', 'Positive','Close']]"
   ]
  },
  {
   "cell_type": "code",
   "execution_count": 35,
   "id": "81d4ed88",
   "metadata": {},
   "outputs": [
    {
     "name": "stderr",
     "output_type": "stream",
     "text": [
      "C:\\Users\\anike\\AppData\\Local\\Temp\\ipykernel_33548\\149008238.py:3: SettingWithCopyWarning: \n",
      "A value is trying to be set on a copy of a slice from a DataFrame.\n",
      "Try using .loc[row_indexer,col_indexer] = value instead\n",
      "\n",
      "See the caveats in the documentation: https://pandas.pydata.org/pandas-docs/stable/user_guide/indexing.html#returning-a-view-versus-a-copy\n",
      "  scaled_df[['sentiment_score', 'Negative', 'Neutral', 'Positive']] = scaler.fit_transform(scaled_df[['sentiment_score', 'Negative', 'Neutral', 'Positive']])\n"
     ]
    }
   ],
   "source": [
    "from sklearn.preprocessing import MinMaxScaler\n",
    "scaler = MinMaxScaler()\n",
    "scaled_df[['sentiment_score', 'Negative', 'Neutral', 'Positive']] = scaler.fit_transform(scaled_df[['sentiment_score', 'Negative', 'Neutral', 'Positive']])"
   ]
  },
  {
   "cell_type": "code",
   "execution_count": 36,
   "id": "cdbba60e",
   "metadata": {},
   "outputs": [
    {
     "data": {
      "text/html": [
       "<div>\n",
       "<style scoped>\n",
       "    .dataframe tbody tr th:only-of-type {\n",
       "        vertical-align: middle;\n",
       "    }\n",
       "\n",
       "    .dataframe tbody tr th {\n",
       "        vertical-align: top;\n",
       "    }\n",
       "\n",
       "    .dataframe thead th {\n",
       "        text-align: right;\n",
       "    }\n",
       "</style>\n",
       "<table border=\"1\" class=\"dataframe\">\n",
       "  <thead>\n",
       "    <tr style=\"text-align: right;\">\n",
       "      <th></th>\n",
       "      <th>sentiment_score</th>\n",
       "      <th>Negative</th>\n",
       "      <th>Neutral</th>\n",
       "      <th>Positive</th>\n",
       "      <th>Close</th>\n",
       "    </tr>\n",
       "  </thead>\n",
       "  <tbody>\n",
       "    <tr>\n",
       "      <th>count</th>\n",
       "      <td>252.000000</td>\n",
       "      <td>252.000000</td>\n",
       "      <td>252.000000</td>\n",
       "      <td>252.000000</td>\n",
       "      <td>252.000000</td>\n",
       "    </tr>\n",
       "    <tr>\n",
       "      <th>mean</th>\n",
       "      <td>0.595963</td>\n",
       "      <td>0.244277</td>\n",
       "      <td>0.490183</td>\n",
       "      <td>0.454929</td>\n",
       "      <td>144.572167</td>\n",
       "    </tr>\n",
       "    <tr>\n",
       "      <th>std</th>\n",
       "      <td>0.113273</td>\n",
       "      <td>0.163715</td>\n",
       "      <td>0.182853</td>\n",
       "      <td>0.172068</td>\n",
       "      <td>23.068358</td>\n",
       "    </tr>\n",
       "    <tr>\n",
       "      <th>min</th>\n",
       "      <td>0.000000</td>\n",
       "      <td>0.000000</td>\n",
       "      <td>0.000000</td>\n",
       "      <td>0.000000</td>\n",
       "      <td>102.309998</td>\n",
       "    </tr>\n",
       "    <tr>\n",
       "      <th>25%</th>\n",
       "      <td>0.538715</td>\n",
       "      <td>0.134587</td>\n",
       "      <td>0.372429</td>\n",
       "      <td>0.348372</td>\n",
       "      <td>123.397499</td>\n",
       "    </tr>\n",
       "    <tr>\n",
       "      <th>50%</th>\n",
       "      <td>0.599086</td>\n",
       "      <td>0.218829</td>\n",
       "      <td>0.509433</td>\n",
       "      <td>0.447679</td>\n",
       "      <td>147.092003</td>\n",
       "    </tr>\n",
       "    <tr>\n",
       "      <th>75%</th>\n",
       "      <td>0.664639</td>\n",
       "      <td>0.328855</td>\n",
       "      <td>0.606478</td>\n",
       "      <td>0.556256</td>\n",
       "      <td>165.025124</td>\n",
       "    </tr>\n",
       "    <tr>\n",
       "      <th>max</th>\n",
       "      <td>1.000000</td>\n",
       "      <td>1.000000</td>\n",
       "      <td>1.000000</td>\n",
       "      <td>1.000000</td>\n",
       "      <td>184.802994</td>\n",
       "    </tr>\n",
       "  </tbody>\n",
       "</table>\n",
       "</div>"
      ],
      "text/plain": [
       "       sentiment_score    Negative     Neutral    Positive       Close\n",
       "count       252.000000  252.000000  252.000000  252.000000  252.000000\n",
       "mean          0.595963    0.244277    0.490183    0.454929  144.572167\n",
       "std           0.113273    0.163715    0.182853    0.172068   23.068358\n",
       "min           0.000000    0.000000    0.000000    0.000000  102.309998\n",
       "25%           0.538715    0.134587    0.372429    0.348372  123.397499\n",
       "50%           0.599086    0.218829    0.509433    0.447679  147.092003\n",
       "75%           0.664639    0.328855    0.606478    0.556256  165.025124\n",
       "max           1.000000    1.000000    1.000000    1.000000  184.802994"
      ]
     },
     "execution_count": 36,
     "metadata": {},
     "output_type": "execute_result"
    }
   ],
   "source": [
    "scaled_df.describe()"
   ]
  },
  {
   "cell_type": "code",
   "execution_count": 37,
   "id": "483c2fb8",
   "metadata": {},
   "outputs": [],
   "source": [
    "features= scaled_df[['sentiment_score', 'Negative', 'Neutral', 'Positive']]\n",
    "target = scaled_df['Close']  "
   ]
  },
  {
   "cell_type": "code",
   "execution_count": 38,
   "id": "9e524d20",
   "metadata": {},
   "outputs": [],
   "source": [
    "from sklearn.model_selection import train_test_split"
   ]
  },
  {
   "cell_type": "code",
   "execution_count": 39,
   "id": "013febee",
   "metadata": {},
   "outputs": [],
   "source": [
    "X_train, X_test, y_train, y_test = train_test_split(features, target, test_size=0.2, random_state=42)"
   ]
  },
  {
   "cell_type": "markdown",
   "id": "13ba80db",
   "metadata": {},
   "source": [
    "## Using RandomForestRegressor"
   ]
  },
  {
   "cell_type": "code",
   "execution_count": 40,
   "id": "2c1f49eb",
   "metadata": {},
   "outputs": [
    {
     "data": {
      "text/html": [
       "<style>#sk-container-id-1 {color: black;}#sk-container-id-1 pre{padding: 0;}#sk-container-id-1 div.sk-toggleable {background-color: white;}#sk-container-id-1 label.sk-toggleable__label {cursor: pointer;display: block;width: 100%;margin-bottom: 0;padding: 0.3em;box-sizing: border-box;text-align: center;}#sk-container-id-1 label.sk-toggleable__label-arrow:before {content: \"▸\";float: left;margin-right: 0.25em;color: #696969;}#sk-container-id-1 label.sk-toggleable__label-arrow:hover:before {color: black;}#sk-container-id-1 div.sk-estimator:hover label.sk-toggleable__label-arrow:before {color: black;}#sk-container-id-1 div.sk-toggleable__content {max-height: 0;max-width: 0;overflow: hidden;text-align: left;background-color: #f0f8ff;}#sk-container-id-1 div.sk-toggleable__content pre {margin: 0.2em;color: black;border-radius: 0.25em;background-color: #f0f8ff;}#sk-container-id-1 input.sk-toggleable__control:checked~div.sk-toggleable__content {max-height: 200px;max-width: 100%;overflow: auto;}#sk-container-id-1 input.sk-toggleable__control:checked~label.sk-toggleable__label-arrow:before {content: \"▾\";}#sk-container-id-1 div.sk-estimator input.sk-toggleable__control:checked~label.sk-toggleable__label {background-color: #d4ebff;}#sk-container-id-1 div.sk-label input.sk-toggleable__control:checked~label.sk-toggleable__label {background-color: #d4ebff;}#sk-container-id-1 input.sk-hidden--visually {border: 0;clip: rect(1px 1px 1px 1px);clip: rect(1px, 1px, 1px, 1px);height: 1px;margin: -1px;overflow: hidden;padding: 0;position: absolute;width: 1px;}#sk-container-id-1 div.sk-estimator {font-family: monospace;background-color: #f0f8ff;border: 1px dotted black;border-radius: 0.25em;box-sizing: border-box;margin-bottom: 0.5em;}#sk-container-id-1 div.sk-estimator:hover {background-color: #d4ebff;}#sk-container-id-1 div.sk-parallel-item::after {content: \"\";width: 100%;border-bottom: 1px solid gray;flex-grow: 1;}#sk-container-id-1 div.sk-label:hover label.sk-toggleable__label {background-color: #d4ebff;}#sk-container-id-1 div.sk-serial::before {content: \"\";position: absolute;border-left: 1px solid gray;box-sizing: border-box;top: 0;bottom: 0;left: 50%;z-index: 0;}#sk-container-id-1 div.sk-serial {display: flex;flex-direction: column;align-items: center;background-color: white;padding-right: 0.2em;padding-left: 0.2em;position: relative;}#sk-container-id-1 div.sk-item {position: relative;z-index: 1;}#sk-container-id-1 div.sk-parallel {display: flex;align-items: stretch;justify-content: center;background-color: white;position: relative;}#sk-container-id-1 div.sk-item::before, #sk-container-id-1 div.sk-parallel-item::before {content: \"\";position: absolute;border-left: 1px solid gray;box-sizing: border-box;top: 0;bottom: 0;left: 50%;z-index: -1;}#sk-container-id-1 div.sk-parallel-item {display: flex;flex-direction: column;z-index: 1;position: relative;background-color: white;}#sk-container-id-1 div.sk-parallel-item:first-child::after {align-self: flex-end;width: 50%;}#sk-container-id-1 div.sk-parallel-item:last-child::after {align-self: flex-start;width: 50%;}#sk-container-id-1 div.sk-parallel-item:only-child::after {width: 0;}#sk-container-id-1 div.sk-dashed-wrapped {border: 1px dashed gray;margin: 0 0.4em 0.5em 0.4em;box-sizing: border-box;padding-bottom: 0.4em;background-color: white;}#sk-container-id-1 div.sk-label label {font-family: monospace;font-weight: bold;display: inline-block;line-height: 1.2em;}#sk-container-id-1 div.sk-label-container {text-align: center;}#sk-container-id-1 div.sk-container {/* jupyter's `normalize.less` sets `[hidden] { display: none; }` but bootstrap.min.css set `[hidden] { display: none !important; }` so we also need the `!important` here to be able to override the default hidden behavior on the sphinx rendered scikit-learn.org. See: https://github.com/scikit-learn/scikit-learn/issues/21755 */display: inline-block !important;position: relative;}#sk-container-id-1 div.sk-text-repr-fallback {display: none;}</style><div id=\"sk-container-id-1\" class=\"sk-top-container\"><div class=\"sk-text-repr-fallback\"><pre>RandomForestRegressor(random_state=42)</pre><b>In a Jupyter environment, please rerun this cell to show the HTML representation or trust the notebook. <br />On GitHub, the HTML representation is unable to render, please try loading this page with nbviewer.org.</b></div><div class=\"sk-container\" hidden><div class=\"sk-item\"><div class=\"sk-estimator sk-toggleable\"><input class=\"sk-toggleable__control sk-hidden--visually\" id=\"sk-estimator-id-1\" type=\"checkbox\" checked><label for=\"sk-estimator-id-1\" class=\"sk-toggleable__label sk-toggleable__label-arrow\">RandomForestRegressor</label><div class=\"sk-toggleable__content\"><pre>RandomForestRegressor(random_state=42)</pre></div></div></div></div></div>"
      ],
      "text/plain": [
       "RandomForestRegressor(random_state=42)"
      ]
     },
     "execution_count": 40,
     "metadata": {},
     "output_type": "execute_result"
    }
   ],
   "source": [
    "from sklearn.ensemble import RandomForestRegressor\n",
    "\n",
    "model = RandomForestRegressor(n_estimators=100, random_state=42)\n",
    "model.fit(X_train, y_train)"
   ]
  },
  {
   "cell_type": "code",
   "execution_count": 41,
   "id": "49ccbbed",
   "metadata": {},
   "outputs": [],
   "source": [
    "y_pred = model.predict(X_test)"
   ]
  },
  {
   "cell_type": "code",
   "execution_count": 42,
   "id": "1a1bcb6f",
   "metadata": {},
   "outputs": [],
   "source": [
    "from sklearn.metrics import mean_absolute_error, mean_squared_error"
   ]
  },
  {
   "cell_type": "code",
   "execution_count": 43,
   "id": "52c52bc0",
   "metadata": {},
   "outputs": [],
   "source": [
    "mae = mean_absolute_error(y_test, y_pred)\n",
    "mse = mean_squared_error(y_test, y_pred)\n",
    "rmse = np.sqrt(mse)"
   ]
  },
  {
   "cell_type": "code",
   "execution_count": 44,
   "id": "c62eb12c",
   "metadata": {},
   "outputs": [
    {
     "name": "stdout",
     "output_type": "stream",
     "text": [
      "MAE: 22.064219034232348\n",
      "RMSE: 25.545303317218313\n"
     ]
    }
   ],
   "source": [
    "print(f'MAE: {mae}')\n",
    "print(f'RMSE: {rmse}')"
   ]
  },
  {
   "cell_type": "code",
   "execution_count": 45,
   "id": "9a77ffad",
   "metadata": {},
   "outputs": [
    {
     "data": {
      "image/png": "[encoded data removed]",
      "text/plain": [
       "<Figure size 1000x500 with 1 Axes>"
      ]
     },
     "metadata": {},
     "output_type": "display_data"
    }
   ],
   "source": [
    "plt.figure(figsize=(10,5))\n",
    "sns.lineplot(x=y_test.index, y=y_test, label='Actual')\n",
    "sns.lineplot(x=y_test.index, y=y_pred, label='Predicted')\n",
    "plt.legend()\n",
    "plt.title(\"Amazon Stock Price Prediction based on Sentiment Analysis\")\n",
    "plt.show()\n"
   ]
  },
  {
   "cell_type": "markdown",
   "id": "1289ed4b",
   "metadata": {},
   "source": [
    "## Using LinearRegression"
   ]
  },
  {
   "cell_type": "code",
   "execution_count": 46,
   "id": "a9975ede",
   "metadata": {},
   "outputs": [
    {
     "data": {
      "text/html": [
       "<style>#sk-container-id-2 {color: black;}#sk-container-id-2 pre{padding: 0;}#sk-container-id-2 div.sk-toggleable {background-color: white;}#sk-container-id-2 label.sk-toggleable__label {cursor: pointer;display: block;width: 100%;margin-bottom: 0;padding: 0.3em;box-sizing: border-box;text-align: center;}#sk-container-id-2 label.sk-toggleable__label-arrow:before {content: \"▸\";float: left;margin-right: 0.25em;color: #696969;}#sk-container-id-2 label.sk-toggleable__label-arrow:hover:before {color: black;}#sk-container-id-2 div.sk-estimator:hover label.sk-toggleable__label-arrow:before {color: black;}#sk-container-id-2 div.sk-toggleable__content {max-height: 0;max-width: 0;overflow: hidden;text-align: left;background-color: #f0f8ff;}#sk-container-id-2 div.sk-toggleable__content pre {margin: 0.2em;color: black;border-radius: 0.25em;background-color: #f0f8ff;}#sk-container-id-2 input.sk-toggleable__control:checked~div.sk-toggleable__content {max-height: 200px;max-width: 100%;overflow: auto;}#sk-container-id-2 input.sk-toggleable__control:checked~label.sk-toggleable__label-arrow:before {content: \"▾\";}#sk-container-id-2 div.sk-estimator input.sk-toggleable__control:checked~label.sk-toggleable__label {background-color: #d4ebff;}#sk-container-id-2 div.sk-label input.sk-toggleable__control:checked~label.sk-toggleable__label {background-color: #d4ebff;}#sk-container-id-2 input.sk-hidden--visually {border: 0;clip: rect(1px 1px 1px 1px);clip: rect(1px, 1px, 1px, 1px);height: 1px;margin: -1px;overflow: hidden;padding: 0;position: absolute;width: 1px;}#sk-container-id-2 div.sk-estimator {font-family: monospace;background-color: #f0f8ff;border: 1px dotted black;border-radius: 0.25em;box-sizing: border-box;margin-bottom: 0.5em;}#sk-container-id-2 div.sk-estimator:hover {background-color: #d4ebff;}#sk-container-id-2 div.sk-parallel-item::after {content: \"\";width: 100%;border-bottom: 1px solid gray;flex-grow: 1;}#sk-container-id-2 div.sk-label:hover label.sk-toggleable__label {background-color: #d4ebff;}#sk-container-id-2 div.sk-serial::before {content: \"\";position: absolute;border-left: 1px solid gray;box-sizing: border-box;top: 0;bottom: 0;left: 50%;z-index: 0;}#sk-container-id-2 div.sk-serial {display: flex;flex-direction: column;align-items: center;background-color: white;padding-right: 0.2em;padding-left: 0.2em;position: relative;}#sk-container-id-2 div.sk-item {position: relative;z-index: 1;}#sk-container-id-2 div.sk-parallel {display: flex;align-items: stretch;justify-content: center;background-color: white;position: relative;}#sk-container-id-2 div.sk-item::before, #sk-container-id-2 div.sk-parallel-item::before {content: \"\";position: absolute;border-left: 1px solid gray;box-sizing: border-box;top: 0;bottom: 0;left: 50%;z-index: -1;}#sk-container-id-2 div.sk-parallel-item {display: flex;flex-direction: column;z-index: 1;position: relative;background-color: white;}#sk-container-id-2 div.sk-parallel-item:first-child::after {align-self: flex-end;width: 50%;}#sk-container-id-2 div.sk-parallel-item:last-child::after {align-self: flex-start;width: 50%;}#sk-container-id-2 div.sk-parallel-item:only-child::after {width: 0;}#sk-container-id-2 div.sk-dashed-wrapped {border: 1px dashed gray;margin: 0 0.4em 0.5em 0.4em;box-sizing: border-box;padding-bottom: 0.4em;background-color: white;}#sk-container-id-2 div.sk-label label {font-family: monospace;font-weight: bold;display: inline-block;line-height: 1.2em;}#sk-container-id-2 div.sk-label-container {text-align: center;}#sk-container-id-2 div.sk-container {/* jupyter's `normalize.less` sets `[hidden] { display: none; }` but bootstrap.min.css set `[hidden] { display: none !important; }` so we also need the `!important` here to be able to override the default hidden behavior on the sphinx rendered scikit-learn.org. See: https://github.com/scikit-learn/scikit-learn/issues/21755 */display: inline-block !important;position: relative;}#sk-container-id-2 div.sk-text-repr-fallback {display: none;}</style><div id=\"sk-container-id-2\" class=\"sk-top-container\"><div class=\"sk-text-repr-fallback\"><pre>LinearRegression()</pre><b>In a Jupyter environment, please rerun this cell to show the HTML representation or trust the notebook. <br />On GitHub, the HTML representation is unable to render, please try loading this page with nbviewer.org.</b></div><div class=\"sk-container\" hidden><div class=\"sk-item\"><div class=\"sk-estimator sk-toggleable\"><input class=\"sk-toggleable__control sk-hidden--visually\" id=\"sk-estimator-id-2\" type=\"checkbox\" checked><label for=\"sk-estimator-id-2\" class=\"sk-toggleable__label sk-toggleable__label-arrow\">LinearRegression</label><div class=\"sk-toggleable__content\"><pre>LinearRegression()</pre></div></div></div></div></div>"
      ],
      "text/plain": [
       "LinearRegression()"
      ]
     },
     "execution_count": 46,
     "metadata": {},
     "output_type": "execute_result"
    }
   ],
   "source": [
    "from sklearn.linear_model import LinearRegression\n",
    "model = LinearRegression()\n",
    "model.fit(X_train, y_train)\n"
   ]
  },
  {
   "cell_type": "code",
   "execution_count": 47,
   "id": "d077799c",
   "metadata": {},
   "outputs": [],
   "source": [
    "y_pred = model.predict(X_test)"
   ]
  },
  {
   "cell_type": "code",
   "execution_count": 48,
   "id": "89dfc13a",
   "metadata": {},
   "outputs": [],
   "source": [
    "mae = mean_absolute_error(y_test, y_pred)\n",
    "mse = mean_squared_error(y_test, y_pred)\n",
    "rmse = np.sqrt(mse)"
   ]
  },
  {
   "cell_type": "code",
   "execution_count": 49,
   "id": "b7384edb",
   "metadata": {},
   "outputs": [
    {
     "name": "stdout",
     "output_type": "stream",
     "text": [
      "MAE: 20.622968237936156\n",
      "RMSE: 23.687259650537566\n"
     ]
    }
   ],
   "source": [
    "print(f'MAE: {mae}')\n",
    "print(f'RMSE: {rmse}')"
   ]
  },
  {
   "cell_type": "code",
   "execution_count": 50,
   "id": "211a312e",
   "metadata": {},
   "outputs": [
    {
     "data": {
      "image/png": "[encoded data removed]",
      "text/plain": [
       "<Figure size 1000x500 with 1 Axes>"
      ]
     },
     "metadata": {},
     "output_type": "display_data"
    }
   ],
   "source": [
    "plt.figure(figsize=(10,5))\n",
    "sns.lineplot(x=y_test.index, y=y_test, label='Actual')\n",
    "sns.lineplot(x=y_test.index, y=y_pred, label='Predicted')\n",
    "plt.legend()\n",
    "plt.title(\"Amazon Stock Price Prediction based on Sentiment Analysis\")\n",
    "plt.show()\n"
   ]
  },
  {
   "cell_type": "markdown",
   "id": "d118b9dc",
   "metadata": {},
   "source": [
    "## Using LSTM"
   ]
  },
  {
   "cell_type": "code",
   "execution_count": 51,
   "id": "41a257a3",
   "metadata": {},
   "outputs": [],
   "source": [
    "import tensorflow as tf\n",
    "from tensorflow.keras.models import Sequential\n",
    "from tensorflow.keras.layers import LSTM, Dense, Dropout"
   ]
  },
  {
   "cell_type": "code",
   "execution_count": 58,
   "id": "24b2e6c6",
   "metadata": {},
   "outputs": [],
   "source": [
    "features = [ 'sentiment_score', 'Negative', 'Neutral', 'Positive']\n",
    "target = 'Close'\n",
    "\n",
    "scaler = MinMaxScaler()\n",
    "scaled_data = scaler.fit_transform(merged_df[features + [target]])\n"
   ]
  },
  {
   "cell_type": "code",
   "execution_count": 59,
   "id": "434ccbaf",
   "metadata": {},
   "outputs": [],
   "source": [
    "def create_sequences(data, seq_length):\n",
    "    X, y = [], []\n",
    "    for i in range(len(data) - seq_length):\n",
    "        X.append(data[i:i+seq_length, :-1]) \n",
    "        y.append(data[i+seq_length, -1])   \n",
    "    return np.array(X), np.array(y)"
   ]
  },
  {
   "cell_type": "code",
   "execution_count": 60,
   "id": "47d84cc1",
   "metadata": {},
   "outputs": [],
   "source": [
    "seq_length = 10  \n",
    "X, y = create_sequences(scaled_data, seq_length)"
   ]
  },
  {
   "cell_type": "code",
   "execution_count": 61,
   "id": "63fb5b84",
   "metadata": {},
   "outputs": [],
   "source": [
    "split = int(0.8 * len(X))\n",
    "X_train, X_test = X[:split], X[split:]\n",
    "y_train, y_test = y[:split], y[split:]"
   ]
  },
  {
   "cell_type": "code",
   "execution_count": 62,
   "id": "df910340",
   "metadata": {},
   "outputs": [
    {
     "name": "stderr",
     "output_type": "stream",
     "text": [
      "C:\\Users\\anike\\anaconda3\\Lib\\site-packages\\keras\\src\\layers\\rnn\\rnn.py:204: UserWarning: Do not pass an `input_shape`/`input_dim` argument to a layer. When using Sequential models, prefer using an `Input(shape)` object as the first layer in the model instead.\n",
      "  super().__init__(**kwargs)\n"
     ]
    }
   ],
   "source": [
    "model = Sequential([\n",
    "    LSTM(64, return_sequences=True, input_shape=(seq_length, len(features))),\n",
    "    Dropout(0.2),\n",
    "    LSTM(32, return_sequences=False),\n",
    "    Dense(16, activation='relu'),\n",
    "    Dense(1)\n",
    "])\n"
   ]
  },
  {
   "cell_type": "code",
   "execution_count": 63,
   "id": "4b761e55",
   "metadata": {},
   "outputs": [],
   "source": [
    "model.compile(optimizer='adam', loss='mean_squared_error')"
   ]
  },
  {
   "cell_type": "code",
   "execution_count": 64,
   "id": "f37781ca",
   "metadata": {},
   "outputs": [
    {
     "name": "stdout",
     "output_type": "stream",
     "text": [
      "Epoch 1/50\n",
      "\u001b[1m25/25\u001b[0m \u001b[32m━━━━━━━━━━━━━━━━━━━━\u001b[0m\u001b[37m\u001b[0m \u001b[1m6s\u001b[0m 30ms/step - loss: 0.2804 - val_loss: 0.0740\n",
      "Epoch 2/50\n",
      "\u001b[1m25/25\u001b[0m \u001b[32m━━━━━━━━━━━━━━━━━━━━\u001b[0m\u001b[37m\u001b[0m \u001b[1m0s\u001b[0m 8ms/step - loss: 0.0931 - val_loss: 0.0778\n",
      "Epoch 3/50\n",
      "\u001b[1m25/25\u001b[0m \u001b[32m━━━━━━━━━━━━━━━━━━━━\u001b[0m\u001b[37m\u001b[0m \u001b[1m0s\u001b[0m 9ms/step - loss: 0.0930 - val_loss: 0.0913\n",
      "Epoch 4/50\n",
      "\u001b[1m25/25\u001b[0m \u001b[32m━━━━━━━━━━━━━━━━━━━━\u001b[0m\u001b[37m\u001b[0m \u001b[1m0s\u001b[0m 8ms/step - loss: 0.0912 - val_loss: 0.0443\n",
      "Epoch 5/50\n",
      "\u001b[1m25/25\u001b[0m \u001b[32m━━━━━━━━━━━━━━━━━━━━\u001b[0m\u001b[37m\u001b[0m \u001b[1m0s\u001b[0m 7ms/step - loss: 0.0844 - val_loss: 0.0295\n",
      "Epoch 6/50\n",
      "\u001b[1m25/25\u001b[0m \u001b[32m━━━━━━━━━━━━━━━━━━━━\u001b[0m\u001b[37m\u001b[0m \u001b[1m0s\u001b[0m 8ms/step - loss: 0.0870 - val_loss: 0.0481\n",
      "Epoch 7/50\n",
      "\u001b[1m25/25\u001b[0m \u001b[32m━━━━━━━━━━━━━━━━━━━━\u001b[0m\u001b[37m\u001b[0m \u001b[1m0s\u001b[0m 7ms/step - loss: 0.0857 - val_loss: 0.0510\n",
      "Epoch 8/50\n",
      "\u001b[1m25/25\u001b[0m \u001b[32m━━━━━━━━━━━━━━━━━━━━\u001b[0m\u001b[37m\u001b[0m \u001b[1m0s\u001b[0m 7ms/step - loss: 0.0951 - val_loss: 0.0694\n",
      "Epoch 9/50\n",
      "\u001b[1m25/25\u001b[0m \u001b[32m━━━━━━━━━━━━━━━━━━━━\u001b[0m\u001b[37m\u001b[0m \u001b[1m0s\u001b[0m 7ms/step - loss: 0.0837 - val_loss: 0.0605\n",
      "Epoch 10/50\n",
      "\u001b[1m25/25\u001b[0m \u001b[32m━━━━━━━━━━━━━━━━━━━━\u001b[0m\u001b[37m\u001b[0m \u001b[1m0s\u001b[0m 7ms/step - loss: 0.0862 - val_loss: 0.0750\n",
      "Epoch 11/50\n",
      "\u001b[1m25/25\u001b[0m \u001b[32m━━━━━━━━━━━━━━━━━━━━\u001b[0m\u001b[37m\u001b[0m \u001b[1m0s\u001b[0m 7ms/step - loss: 0.0782 - val_loss: 0.0436\n",
      "Epoch 12/50\n",
      "\u001b[1m25/25\u001b[0m \u001b[32m━━━━━━━━━━━━━━━━━━━━\u001b[0m\u001b[37m\u001b[0m \u001b[1m0s\u001b[0m 7ms/step - loss: 0.0767 - val_loss: 0.0664\n",
      "Epoch 13/50\n",
      "\u001b[1m25/25\u001b[0m \u001b[32m━━━━━━━━━━━━━━━━━━━━\u001b[0m\u001b[37m\u001b[0m \u001b[1m0s\u001b[0m 11ms/step - loss: 0.0763 - val_loss: 0.0508\n",
      "Epoch 14/50\n",
      "\u001b[1m25/25\u001b[0m \u001b[32m━━━━━━━━━━━━━━━━━━━━\u001b[0m\u001b[37m\u001b[0m \u001b[1m0s\u001b[0m 8ms/step - loss: 0.0828 - val_loss: 0.0421\n",
      "Epoch 15/50\n",
      "\u001b[1m25/25\u001b[0m \u001b[32m━━━━━━━━━━━━━━━━━━━━\u001b[0m\u001b[37m\u001b[0m \u001b[1m0s\u001b[0m 7ms/step - loss: 0.0803 - val_loss: 0.0337\n",
      "Epoch 16/50\n",
      "\u001b[1m25/25\u001b[0m \u001b[32m━━━━━━━━━━━━━━━━━━━━\u001b[0m\u001b[37m\u001b[0m \u001b[1m0s\u001b[0m 8ms/step - loss: 0.0764 - val_loss: 0.0653\n",
      "Epoch 17/50\n",
      "\u001b[1m25/25\u001b[0m \u001b[32m━━━━━━━━━━━━━━━━━━━━\u001b[0m\u001b[37m\u001b[0m \u001b[1m0s\u001b[0m 8ms/step - loss: 0.0766 - val_loss: 0.0724\n",
      "Epoch 18/50\n",
      "\u001b[1m25/25\u001b[0m \u001b[32m━━━━━━━━━━━━━━━━━━━━\u001b[0m\u001b[37m\u001b[0m \u001b[1m0s\u001b[0m 8ms/step - loss: 0.0760 - val_loss: 0.0515\n",
      "Epoch 19/50\n",
      "\u001b[1m25/25\u001b[0m \u001b[32m━━━━━━━━━━━━━━━━━━━━\u001b[0m\u001b[37m\u001b[0m \u001b[1m0s\u001b[0m 9ms/step - loss: 0.0762 - val_loss: 0.0952\n",
      "Epoch 20/50\n",
      "\u001b[1m25/25\u001b[0m \u001b[32m━━━━━━━━━━━━━━━━━━━━\u001b[0m\u001b[37m\u001b[0m \u001b[1m0s\u001b[0m 8ms/step - loss: 0.0744 - val_loss: 0.1057\n",
      "Epoch 21/50\n",
      "\u001b[1m25/25\u001b[0m \u001b[32m━━━━━━━━━━━━━━━━━━━━\u001b[0m\u001b[37m\u001b[0m \u001b[1m0s\u001b[0m 7ms/step - loss: 0.0773 - val_loss: 0.1042\n",
      "Epoch 22/50\n",
      "\u001b[1m25/25\u001b[0m \u001b[32m━━━━━━━━━━━━━━━━━━━━\u001b[0m\u001b[37m\u001b[0m \u001b[1m0s\u001b[0m 7ms/step - loss: 0.0842 - val_loss: 0.0731\n",
      "Epoch 23/50\n",
      "\u001b[1m25/25\u001b[0m \u001b[32m━━━━━━━━━━━━━━━━━━━━\u001b[0m\u001b[37m\u001b[0m \u001b[1m0s\u001b[0m 8ms/step - loss: 0.0851 - val_loss: 0.1119\n",
      "Epoch 24/50\n",
      "\u001b[1m25/25\u001b[0m \u001b[32m━━━━━━━━━━━━━━━━━━━━\u001b[0m\u001b[37m\u001b[0m \u001b[1m0s\u001b[0m 8ms/step - loss: 0.0916 - val_loss: 0.0926\n",
      "Epoch 25/50\n",
      "\u001b[1m25/25\u001b[0m \u001b[32m━━━━━━━━━━━━━━━━━━━━\u001b[0m\u001b[37m\u001b[0m \u001b[1m0s\u001b[0m 9ms/step - loss: 0.0790 - val_loss: 0.0693\n",
      "Epoch 26/50\n",
      "\u001b[1m25/25\u001b[0m \u001b[32m━━━━━━━━━━━━━━━━━━━━\u001b[0m\u001b[37m\u001b[0m \u001b[1m0s\u001b[0m 8ms/step - loss: 0.0809 - val_loss: 0.0734\n",
      "Epoch 27/50\n",
      "\u001b[1m25/25\u001b[0m \u001b[32m━━━━━━━━━━━━━━━━━━━━\u001b[0m\u001b[37m\u001b[0m \u001b[1m0s\u001b[0m 9ms/step - loss: 0.0749 - val_loss: 0.0545\n",
      "Epoch 28/50\n",
      "\u001b[1m25/25\u001b[0m \u001b[32m━━━━━━━━━━━━━━━━━━━━\u001b[0m\u001b[37m\u001b[0m \u001b[1m0s\u001b[0m 8ms/step - loss: 0.0740 - val_loss: 0.0502\n",
      "Epoch 29/50\n",
      "\u001b[1m25/25\u001b[0m \u001b[32m━━━━━━━━━━━━━━━━━━━━\u001b[0m\u001b[37m\u001b[0m \u001b[1m0s\u001b[0m 11ms/step - loss: 0.0759 - val_loss: 0.0481\n",
      "Epoch 30/50\n",
      "\u001b[1m25/25\u001b[0m \u001b[32m━━━━━━━━━━━━━━━━━━━━\u001b[0m\u001b[37m\u001b[0m \u001b[1m0s\u001b[0m 10ms/step - loss: 0.0746 - val_loss: 0.0686\n",
      "Epoch 31/50\n",
      "\u001b[1m25/25\u001b[0m \u001b[32m━━━━━━━━━━━━━━━━━━━━\u001b[0m\u001b[37m\u001b[0m \u001b[1m0s\u001b[0m 10ms/step - loss: 0.0699 - val_loss: 0.0593\n",
      "Epoch 32/50\n",
      "\u001b[1m25/25\u001b[0m \u001b[32m━━━━━━━━━━━━━━━━━━━━\u001b[0m\u001b[37m\u001b[0m \u001b[1m0s\u001b[0m 11ms/step - loss: 0.0695 - val_loss: 0.0565\n",
      "Epoch 33/50\n",
      "\u001b[1m25/25\u001b[0m \u001b[32m━━━━━━━━━━━━━━━━━━━━\u001b[0m\u001b[37m\u001b[0m \u001b[1m0s\u001b[0m 9ms/step - loss: 0.0783 - val_loss: 0.0651\n",
      "Epoch 34/50\n",
      "\u001b[1m25/25\u001b[0m \u001b[32m━━━━━━━━━━━━━━━━━━━━\u001b[0m\u001b[37m\u001b[0m \u001b[1m0s\u001b[0m 8ms/step - loss: 0.0694 - val_loss: 0.0437\n",
      "Epoch 35/50\n",
      "\u001b[1m25/25\u001b[0m \u001b[32m━━━━━━━━━━━━━━━━━━━━\u001b[0m\u001b[37m\u001b[0m \u001b[1m0s\u001b[0m 9ms/step - loss: 0.0748 - val_loss: 0.0498\n",
      "Epoch 36/50\n",
      "\u001b[1m25/25\u001b[0m \u001b[32m━━━━━━━━━━━━━━━━━━━━\u001b[0m\u001b[37m\u001b[0m \u001b[1m0s\u001b[0m 10ms/step - loss: 0.0720 - val_loss: 0.0604\n",
      "Epoch 37/50\n",
      "\u001b[1m25/25\u001b[0m \u001b[32m━━━━━━━━━━━━━━━━━━━━\u001b[0m\u001b[37m\u001b[0m \u001b[1m0s\u001b[0m 9ms/step - loss: 0.0775 - val_loss: 0.1129\n",
      "Epoch 38/50\n",
      "\u001b[1m25/25\u001b[0m \u001b[32m━━━━━━━━━━━━━━━━━━━━\u001b[0m\u001b[37m\u001b[0m \u001b[1m0s\u001b[0m 8ms/step - loss: 0.0769 - val_loss: 0.0798\n",
      "Epoch 39/50\n",
      "\u001b[1m25/25\u001b[0m \u001b[32m━━━━━━━━━━━━━━━━━━━━\u001b[0m\u001b[37m\u001b[0m \u001b[1m0s\u001b[0m 8ms/step - loss: 0.0714 - val_loss: 0.0436\n",
      "Epoch 40/50\n",
      "\u001b[1m25/25\u001b[0m \u001b[32m━━━━━━━━━━━━━━━━━━━━\u001b[0m\u001b[37m\u001b[0m \u001b[1m0s\u001b[0m 8ms/step - loss: 0.0694 - val_loss: 0.0404\n",
      "Epoch 41/50\n",
      "\u001b[1m25/25\u001b[0m \u001b[32m━━━━━━━━━━━━━━━━━━━━\u001b[0m\u001b[37m\u001b[0m \u001b[1m0s\u001b[0m 7ms/step - loss: 0.0716 - val_loss: 0.0541\n",
      "Epoch 42/50\n",
      "\u001b[1m25/25\u001b[0m \u001b[32m━━━━━━━━━━━━━━━━━━━━\u001b[0m\u001b[37m\u001b[0m \u001b[1m0s\u001b[0m 8ms/step - loss: 0.0662 - val_loss: 0.0602\n",
      "Epoch 43/50\n",
      "\u001b[1m25/25\u001b[0m \u001b[32m━━━━━━━━━━━━━━━━━━━━\u001b[0m\u001b[37m\u001b[0m \u001b[1m0s\u001b[0m 9ms/step - loss: 0.0686 - val_loss: 0.0435\n",
      "Epoch 44/50\n",
      "\u001b[1m25/25\u001b[0m \u001b[32m━━━━━━━━━━━━━━━━━━━━\u001b[0m\u001b[37m\u001b[0m \u001b[1m0s\u001b[0m 8ms/step - loss: 0.0732 - val_loss: 0.0517\n",
      "Epoch 45/50\n",
      "\u001b[1m25/25\u001b[0m \u001b[32m━━━━━━━━━━━━━━━━━━━━\u001b[0m\u001b[37m\u001b[0m \u001b[1m0s\u001b[0m 8ms/step - loss: 0.0703 - val_loss: 0.0505\n",
      "Epoch 46/50\n",
      "\u001b[1m25/25\u001b[0m \u001b[32m━━━━━━━━━━━━━━━━━━━━\u001b[0m\u001b[37m\u001b[0m \u001b[1m0s\u001b[0m 8ms/step - loss: 0.0683 - val_loss: 0.0556\n",
      "Epoch 47/50\n",
      "\u001b[1m25/25\u001b[0m \u001b[32m━━━━━━━━━━━━━━━━━━━━\u001b[0m\u001b[37m\u001b[0m \u001b[1m0s\u001b[0m 9ms/step - loss: 0.0705 - val_loss: 0.0788\n",
      "Epoch 48/50\n",
      "\u001b[1m25/25\u001b[0m \u001b[32m━━━━━━━━━━━━━━━━━━━━\u001b[0m\u001b[37m\u001b[0m \u001b[1m0s\u001b[0m 9ms/step - loss: 0.0682 - val_loss: 0.0323\n",
      "Epoch 49/50\n",
      "\u001b[1m25/25\u001b[0m \u001b[32m━━━━━━━━━━━━━━━━━━━━\u001b[0m\u001b[37m\u001b[0m \u001b[1m0s\u001b[0m 9ms/step - loss: 0.0801 - val_loss: 0.0292\n",
      "Epoch 50/50\n",
      "\u001b[1m25/25\u001b[0m \u001b[32m━━━━━━━━━━━━━━━━━━━━\u001b[0m\u001b[37m\u001b[0m \u001b[1m0s\u001b[0m 8ms/step - loss: 0.0745 - val_loss: 0.0535\n"
     ]
    }
   ],
   "source": [
    "history = model.fit(X_train, y_train, epochs=50, batch_size=8, validation_data=(X_test, y_test))"
   ]
  },
  {
   "cell_type": "code",
   "execution_count": 65,
   "id": "4335e1e1",
   "metadata": {},
   "outputs": [
    {
     "name": "stdout",
     "output_type": "stream",
     "text": [
      "\u001b[1m2/2\u001b[0m \u001b[32m━━━━━━━━━━━━━━━━━━━━\u001b[0m\u001b[37m\u001b[0m \u001b[1m1s\u001b[0m 411ms/step\n"
     ]
    },
    {
     "data": {
      "image/png": "[encoded data removed]",
      "text/plain": [
       "<Figure size 1000x500 with 1 Axes>"
      ]
     },
     "metadata": {},
     "output_type": "display_data"
    }
   ],
   "source": [
    "# Predict stock prices\n",
    "y_pred = model.predict(X_test)\n",
    "\n",
    "# Inverse transform only the target feature (Close price)\n",
    "y_test_actual = scaler.inverse_transform(np.concatenate((X_test[:, -1, :], y_test.reshape(-1, 1)), axis=1))[:, -1]\n",
    "y_pred_actual = scaler.inverse_transform(np.concatenate((X_test[:, -1, :], y_pred.reshape(-1, 1)), axis=1))[:, -1]\n",
    "\n",
    "# Plot actual vs predicted prices\n",
    "plt.figure(figsize=(10, 5))\n",
    "sns.lineplot(x=range(len(y_test_actual)), y=y_test_actual, label='Actual', color='red')\n",
    "sns.lineplot(x=range(len(y_pred_actual)), y=y_pred_actual, label='Predicted', color='blue')\n",
    "plt.legend()\n",
    "plt.title(\"Amazon Stock Price Prediction using LSTM\")\n",
    "plt.show()\n"
   ]
  },
  {
   "cell_type": "code",
   "execution_count": 66,
   "id": "9e1268d7",
   "metadata": {},
   "outputs": [
    {
     "name": "stdout",
     "output_type": "stream",
     "text": [
      "0.05346407492099679\n"
     ]
    }
   ],
   "source": [
    "print(mean_squared_error(y_test,y_pred))"
   ]
  },
  {
   "cell_type": "code",
   "execution_count": 67,
   "id": "f6f7f3ea",
   "metadata": {},
   "outputs": [
    {
     "name": "stdout",
     "output_type": "stream",
     "text": [
      "0.1976942502466045\n"
     ]
    }
   ],
   "source": [
    "print(mean_absolute_error(y_test,y_pred))"
   ]
  },
  {
   "cell_type": "code",
   "execution_count": 68,
   "id": "5a20adf3",
   "metadata": {},
   "outputs": [
    {
     "name": "stdout",
     "output_type": "stream",
     "text": [
      "0.23122299825276202\n"
     ]
    }
   ],
   "source": [
    "print(mean_squared_error(y_test,y_pred)**0.5)"
   ]
  },
  {
   "cell_type": "code",
   "execution_count": 69,
   "id": "84c3d2ba",
   "metadata": {},
   "outputs": [
    {
     "data": {
      "image/png": "[encoded data removed]",
      "text/plain": [
       "<Figure size 1000x500 with 1 Axes>"
      ]
     },
     "metadata": {},
     "output_type": "display_data"
    }
   ],
   "source": [
    "# Plot loss curve\n",
    "plt.figure(figsize=(10,5))\n",
    "plt.plot(history.history['loss'], label='Training Loss')\n",
    "plt.plot(history.history['val_loss'], label='Validation Loss')\n",
    "plt.legend()\n",
    "plt.title(\"Training vs Validation Loss\")\n",
    "plt.show()"
   ]
  }
 ],
 "metadata": {
  "kernelspec": {
   "display_name": "Python 3 (ipykernel)",
   "language": "python",
   "name": "python3"
  },
  "language_info": {
   "codemirror_mode": {
    "name": "ipython",
    "version": 3
   },
   "file_extension": ".py",
   "mimetype": "text/x-python",
   "name": "python",
   "nbconvert_exporter": "python",
   "pygments_lexer": "ipython3",
   "version": "3.11.4"
  }
 },
 "nbformat": 4,
 "nbformat_minor": 5
}
